{
 "cells": [
  {
   "cell_type": "code",
   "execution_count": 2,
   "metadata": {},
   "outputs": [],
   "source": [
    "from pyspark.sql import SparkSession"
   ]
  },
  {
   "cell_type": "code",
   "execution_count": 3,
   "metadata": {},
   "outputs": [],
   "source": [
    "spark=SparkSession.builder.appName('logreg').getOrCreate()"
   ]
  },
  {
   "cell_type": "code",
   "execution_count": 4,
   "metadata": {},
   "outputs": [],
   "source": [
    "from pyspark.ml.classification import LogisticRegression"
   ]
  },
  {
   "cell_type": "code",
   "execution_count": 21,
   "metadata": {},
   "outputs": [],
   "source": [
    "input_file_path=\"file:///C:/Users/ckp43_000/Documents/Admission_Predict.csv\""
   ]
  },
  {
   "cell_type": "code",
   "execution_count": 28,
   "metadata": {},
   "outputs": [],
   "source": [
    "data=spark.read.csv(input_file_path,inferSchema=True,header=True)"
   ]
  },
  {
   "cell_type": "code",
   "execution_count": 29,
   "metadata": {
    "scrolled": false
   },
   "outputs": [
    {
     "name": "stdout",
     "output_type": "stream",
     "text": [
      "+----------+---------+-----------+-----------------+---+----+----+--------+----------------+\n",
      "|Serial No.|GRE Score|TOEFL Score|University Rating|SOP|LOR |CGPA|Research|Chance of Admit |\n",
      "+----------+---------+-----------+-----------------+---+----+----+--------+----------------+\n",
      "|         1|      337|        118|                4|4.5| 4.5|9.65|       1|            0.92|\n",
      "|         2|      324|        107|                4|4.0| 4.5|8.87|       1|            0.76|\n",
      "|         3|      316|        104|                3|3.0| 3.5| 8.0|       1|            0.72|\n",
      "|         4|      322|        110|                3|3.5| 2.5|8.67|       1|             0.8|\n",
      "|         5|      314|        103|                2|2.0| 3.0|8.21|       0|            0.65|\n",
      "|         6|      330|        115|                5|4.5| 3.0|9.34|       1|             0.9|\n",
      "|         7|      321|        109|                3|3.0| 4.0| 8.2|       1|            0.75|\n",
      "|         8|      308|        101|                2|3.0| 4.0| 7.9|       0|            0.68|\n",
      "|         9|      302|        102|                1|2.0| 1.5| 8.0|       0|             0.5|\n",
      "|        10|      323|        108|                3|3.5| 3.0| 8.6|       0|            0.45|\n",
      "+----------+---------+-----------+-----------------+---+----+----+--------+----------------+\n",
      "only showing top 10 rows\n",
      "\n"
     ]
    }
   ],
   "source": [
    "data.show(10)"
   ]
  },
  {
   "cell_type": "code",
   "execution_count": 30,
   "metadata": {
    "scrolled": true
   },
   "outputs": [
    {
     "data": {
      "text/plain": [
       "400"
      ]
     },
     "execution_count": 30,
     "metadata": {},
     "output_type": "execute_result"
    }
   ],
   "source": [
    "data.count()"
   ]
  },
  {
   "cell_type": "code",
   "execution_count": 34,
   "metadata": {},
   "outputs": [
    {
     "data": {
      "text/plain": [
       "['Serial No.',\n",
       " 'GRE Score',\n",
       " 'TOEFL Score',\n",
       " 'University Rating',\n",
       " 'SOP',\n",
       " 'LOR ',\n",
       " 'CGPA',\n",
       " 'Research',\n",
       " 'Chance of Admit ']"
      ]
     },
     "execution_count": 34,
     "metadata": {},
     "output_type": "execute_result"
    }
   ],
   "source": [
    "data.columns"
   ]
  },
  {
   "cell_type": "code",
   "execution_count": 31,
   "metadata": {},
   "outputs": [],
   "source": [
    "from pyspark.ml.linalg import Vector"
   ]
  },
  {
   "cell_type": "code",
   "execution_count": 32,
   "metadata": {},
   "outputs": [],
   "source": [
    "from pyspark.ml.feature import VectorAssembler"
   ]
  },
  {
   "cell_type": "code",
   "execution_count": 35,
   "metadata": {},
   "outputs": [],
   "source": [
    "assembler=VectorAssembler(inputCols=['GRE Score',\n",
    " 'TOEFL Score',\n",
    " 'University Rating',\n",
    " 'SOP',\n",
    " 'LOR ',\n",
    " 'CGPA'],outputCol='features')"
   ]
  },
  {
   "cell_type": "code",
   "execution_count": 38,
   "metadata": {},
   "outputs": [],
   "source": [
    "output=assembler.transform(data)"
   ]
  },
  {
   "cell_type": "code",
   "execution_count": 39,
   "metadata": {
    "scrolled": true
   },
   "outputs": [
    {
     "name": "stdout",
     "output_type": "stream",
     "text": [
      "+----------+---------+-----------+-----------------+---+----+----+--------+----------------+--------------------+\n",
      "|Serial No.|GRE Score|TOEFL Score|University Rating|SOP|LOR |CGPA|Research|Chance of Admit |            features|\n",
      "+----------+---------+-----------+-----------------+---+----+----+--------+----------------+--------------------+\n",
      "|         1|      337|        118|                4|4.5| 4.5|9.65|       1|            0.92|[337.0,118.0,4.0,...|\n",
      "|         2|      324|        107|                4|4.0| 4.5|8.87|       1|            0.76|[324.0,107.0,4.0,...|\n",
      "|         3|      316|        104|                3|3.0| 3.5| 8.0|       1|            0.72|[316.0,104.0,3.0,...|\n",
      "|         4|      322|        110|                3|3.5| 2.5|8.67|       1|             0.8|[322.0,110.0,3.0,...|\n",
      "|         5|      314|        103|                2|2.0| 3.0|8.21|       0|            0.65|[314.0,103.0,2.0,...|\n",
      "|         6|      330|        115|                5|4.5| 3.0|9.34|       1|             0.9|[330.0,115.0,5.0,...|\n",
      "|         7|      321|        109|                3|3.0| 4.0| 8.2|       1|            0.75|[321.0,109.0,3.0,...|\n",
      "|         8|      308|        101|                2|3.0| 4.0| 7.9|       0|            0.68|[308.0,101.0,2.0,...|\n",
      "|         9|      302|        102|                1|2.0| 1.5| 8.0|       0|             0.5|[302.0,102.0,1.0,...|\n",
      "|        10|      323|        108|                3|3.5| 3.0| 8.6|       0|            0.45|[323.0,108.0,3.0,...|\n",
      "+----------+---------+-----------+-----------------+---+----+----+--------+----------------+--------------------+\n",
      "only showing top 10 rows\n",
      "\n"
     ]
    }
   ],
   "source": [
    "output.show(10)"
   ]
  },
  {
   "cell_type": "code",
   "execution_count": null,
   "metadata": {},
   "outputs": [],
   "source": [
    "my_data.withColumnRenamed()"
   ]
  },
  {
   "cell_type": "code",
   "execution_count": 42,
   "metadata": {},
   "outputs": [],
   "source": [
    "my_data=output.select('Research','features')"
   ]
  },
  {
   "cell_type": "code",
   "execution_count": 48,
   "metadata": {},
   "outputs": [],
   "source": [
    "new_my_data=my_data.withColumnRenamed('Research','label')"
   ]
  },
  {
   "cell_type": "code",
   "execution_count": 49,
   "metadata": {},
   "outputs": [
    {
     "name": "stdout",
     "output_type": "stream",
     "text": [
      "+-----+--------------------+\n",
      "|label|            features|\n",
      "+-----+--------------------+\n",
      "|    1|[337.0,118.0,4.0,...|\n",
      "|    1|[324.0,107.0,4.0,...|\n",
      "|    1|[316.0,104.0,3.0,...|\n",
      "|    1|[322.0,110.0,3.0,...|\n",
      "|    0|[314.0,103.0,2.0,...|\n",
      "|    1|[330.0,115.0,5.0,...|\n",
      "|    1|[321.0,109.0,3.0,...|\n",
      "|    0|[308.0,101.0,2.0,...|\n",
      "|    0|[302.0,102.0,1.0,...|\n",
      "|    0|[323.0,108.0,3.0,...|\n",
      "+-----+--------------------+\n",
      "only showing top 10 rows\n",
      "\n"
     ]
    }
   ],
   "source": [
    "new_my_data.show(10)"
   ]
  },
  {
   "cell_type": "code",
   "execution_count": 52,
   "metadata": {},
   "outputs": [],
   "source": [
    "from pyspark.ml.classification import LogisticRegression"
   ]
  },
  {
   "cell_type": "code",
   "execution_count": null,
   "metadata": {},
   "outputs": [],
   "source": []
  },
  {
   "cell_type": "code",
   "execution_count": 53,
   "metadata": {},
   "outputs": [],
   "source": [
    "my_log_reg_model=LogisticRegression()"
   ]
  },
  {
   "cell_type": "code",
   "execution_count": null,
   "metadata": {},
   "outputs": [],
   "source": []
  },
  {
   "cell_type": "code",
   "execution_count": 54,
   "metadata": {},
   "outputs": [],
   "source": [
    "fitted_logreg=mylogreg_model.fit(new_my_data)"
   ]
  },
  {
   "cell_type": "code",
   "execution_count": 58,
   "metadata": {},
   "outputs": [],
   "source": [
    "log_summary=fitted_logreg.summary"
   ]
  },
  {
   "cell_type": "code",
   "execution_count": 60,
   "metadata": {},
   "outputs": [
    {
     "name": "stdout",
     "output_type": "stream",
     "text": [
      "root\n",
      " |-- label: double (nullable = true)\n",
      " |-- features: vector (nullable = true)\n",
      " |-- rawPrediction: vector (nullable = true)\n",
      " |-- probability: vector (nullable = true)\n",
      " |-- prediction: double (nullable = false)\n",
      "\n"
     ]
    }
   ],
   "source": [
    "log_summary.predictions.printSchema()"
   ]
  },
  {
   "cell_type": "code",
   "execution_count": 61,
   "metadata": {},
   "outputs": [
    {
     "name": "stdout",
     "output_type": "stream",
     "text": [
      "+-----+--------------------+--------------------+--------------------+----------+\n",
      "|label|            features|       rawPrediction|         probability|prediction|\n",
      "+-----+--------------------+--------------------+--------------------+----------+\n",
      "|  1.0|[337.0,118.0,4.0,...|[-3.2639831297014...|[0.03682766121973...|       1.0|\n",
      "|  1.0|[324.0,107.0,4.0,...|[-1.6532646432421...|[0.16066821172423...|       1.0|\n",
      "|  1.0|[316.0,104.0,3.0,...|[-0.0199491879687...|[0.49501286840082...|       1.0|\n",
      "|  1.0|[322.0,110.0,3.0,...|[-0.7779682951811...|[0.31475793006685...|       1.0|\n",
      "|  0.0|[314.0,103.0,2.0,...|[0.55834850934115...|[0.63607033116586...|       0.0|\n",
      "|  1.0|[330.0,115.0,5.0,...|[-2.2887475578452...|[0.09205918094496...|       1.0|\n",
      "|  1.0|[321.0,109.0,3.0,...|[-0.5873164418108...|[0.35725082377669...|       1.0|\n",
      "|  0.0|[308.0,101.0,2.0,...|[0.91063080243332...|[0.71312922709578...|       0.0|\n",
      "|  0.0|[302.0,102.0,1.0,...|[2.33724997857842...|[0.91191543793503...|       0.0|\n",
      "|  0.0|[323.0,108.0,3.0,...|[-1.0150528418351...|[0.26599216649331...|       1.0|\n",
      "|  1.0|[325.0,106.0,3.0,...|[-1.4006580716610...|[0.19771170617299...|       1.0|\n",
      "|  1.0|[327.0,111.0,4.0,...|[-1.9243567425319...|[0.12737652012745...|       1.0|\n",
      "|  1.0|[328.0,112.0,4.0,...|[-2.0430454450236...|[0.11475698875499...|       1.0|\n",
      "|  1.0|[307.0,109.0,3.0,...|[1.05008317727122...|[0.74079087118139...|       0.0|\n",
      "|  1.0|[311.0,104.0,3.0,...|[0.58342514165074...|[0.64185514999484...|       0.0|\n",
      "|  0.0|[314.0,105.0,3.0,...|[0.15324512175440...|[0.53823648070308...|       0.0|\n",
      "|  0.0|[317.0,107.0,3.0,...|[-0.4763529538731...|[0.38311369109419...|       1.0|\n",
      "|  1.0|[319.0,106.0,3.0,...|[-0.5588250420816...|[0.36381936587138...|       1.0|\n",
      "|  0.0|[318.0,110.0,3.0,...|[-0.5239172542159...|[0.37193670580431...|       1.0|\n",
      "|  0.0|[303.0,102.0,3.0,...|[1.30434241415598...|[0.78656489710773...|       0.0|\n",
      "+-----+--------------------+--------------------+--------------------+----------+\n",
      "only showing top 20 rows\n",
      "\n"
     ]
    }
   ],
   "source": [
    "log_summary.predictions.show()"
   ]
  },
  {
   "cell_type": "code",
   "execution_count": 62,
   "metadata": {},
   "outputs": [],
   "source": [
    " lr_train,lr_test=new_my_data.randomSplit([0.7,0.3])"
   ]
  },
  {
   "cell_type": "code",
   "execution_count": 63,
   "metadata": {},
   "outputs": [],
   "source": [
    "final_model=LogisticRegression()"
   ]
  },
  {
   "cell_type": "code",
   "execution_count": 64,
   "metadata": {},
   "outputs": [],
   "source": [
    "fit_final=final_model.fit(lr_train)"
   ]
  },
  {
   "cell_type": "code",
   "execution_count": 65,
   "metadata": {},
   "outputs": [],
   "source": [
    "prediction_and_labels=fit_final.evaluate(lr_test)"
   ]
  },
  {
   "cell_type": "code",
   "execution_count": 69,
   "metadata": {},
   "outputs": [
    {
     "name": "stdout",
     "output_type": "stream",
     "text": [
      "+-----+--------------------+--------------------+--------------------+----------+\n",
      "|label|            features|       rawPrediction|         probability|prediction|\n",
      "+-----+--------------------+--------------------+--------------------+----------+\n",
      "|    0|[295.0,101.0,2.0,...|[3.37965919483598...|[0.96706275147193...|       0.0|\n",
      "|    0|[296.0,99.0,2.0,2...|[2.99979531300360...|[0.95256487889098...|       0.0|\n",
      "|    0|[296.0,99.0,2.0,3...|[2.56926878075231...|[0.92885739111938...|       0.0|\n",
      "|    0|[296.0,101.0,1.0,...|[3.06622691871024...|[0.95547794167440...|       0.0|\n",
      "|    0|[297.0,98.0,2.0,2...|[2.66256137164786...|[0.93478099584926...|       0.0|\n",
      "|    0|[298.0,92.0,1.0,2...|[2.72517009173985...|[0.93849563700100...|       0.0|\n",
      "|    0|[298.0,99.0,2.0,4...|[2.38605917092676...|[0.91575804956826...|       0.0|\n",
      "|    0|[299.0,94.0,1.0,1...|[3.24182931854944...|[0.96237839824647...|       0.0|\n",
      "|    0|[300.0,102.0,2.0,...|[3.00825850394143...|[0.95294582707094...|       0.0|\n",
      "|    0|[300.0,102.0,3.0,...|[2.17946027146769...|[0.89838981327578...|       0.0|\n",
      "+-----+--------------------+--------------------+--------------------+----------+\n",
      "only showing top 10 rows\n",
      "\n"
     ]
    }
   ],
   "source": [
    "prediction_and_labels.predictions.show(10)"
   ]
  },
  {
   "cell_type": "code",
   "execution_count": 70,
   "metadata": {},
   "outputs": [],
   "source": [
    "from pyspark.ml.evaluation import (BinaryClassificationEvaluator,\n",
    "                                   MulticlassClassificationEvaluator)"
   ]
  },
  {
   "cell_type": "code",
   "execution_count": 71,
   "metadata": {},
   "outputs": [],
   "source": [
    "my_eval=BinaryClassificationEvaluator()"
   ]
  },
  {
   "cell_type": "code",
   "execution_count": 72,
   "metadata": {},
   "outputs": [],
   "source": [
    "my_final_roc=my_eval.evaluate(prediction_and_labels.predictions)"
   ]
  },
  {
   "cell_type": "code",
   "execution_count": 73,
   "metadata": {},
   "outputs": [
    {
     "data": {
      "text/plain": [
       "0.8321724709784412"
      ]
     },
     "execution_count": 73,
     "metadata": {},
     "output_type": "execute_result"
    }
   ],
   "source": [
    "my_final_roc"
   ]
  },
  {
   "cell_type": "code",
   "execution_count": null,
   "metadata": {},
   "outputs": [],
   "source": []
  },
  {
   "cell_type": "code",
   "execution_count": null,
   "metadata": {},
   "outputs": [],
   "source": []
  }
 ],
 "metadata": {
  "kernelspec": {
   "display_name": "Python 3",
   "language": "python",
   "name": "python3"
  },
  "language_info": {
   "codemirror_mode": {
    "name": "ipython",
    "version": 3
   },
   "file_extension": ".py",
   "mimetype": "text/x-python",
   "name": "python",
   "nbconvert_exporter": "python",
   "pygments_lexer": "ipython3",
   "version": "3.7.4"
  }
 },
 "nbformat": 4,
 "nbformat_minor": 2
}
