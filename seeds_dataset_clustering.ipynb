{
 "cells": [
  {
   "cell_type": "code",
   "execution_count": 1,
   "metadata": {},
   "outputs": [],
   "source": [
    "from pyspark.sql import SparkSession"
   ]
  },
  {
   "cell_type": "code",
   "execution_count": 2,
   "metadata": {},
   "outputs": [],
   "source": [
    "spark=SparkSession.builder.appName('clustering').getOrCreate()"
   ]
  },
  {
   "cell_type": "code",
   "execution_count": 4,
   "metadata": {},
   "outputs": [],
   "source": [
    "input_file_path=\"file:///C:/Users/ckp43_000/Documents/seeds_dataset.csv\""
   ]
  },
  {
   "cell_type": "code",
   "execution_count": 5,
   "metadata": {},
   "outputs": [],
   "source": [
    "data=spark.read.csv(input_file_path,inferSchema=True,header=True)"
   ]
  },
  {
   "cell_type": "code",
   "execution_count": 6,
   "metadata": {},
   "outputs": [
    {
     "name": "stdout",
     "output_type": "stream",
     "text": [
      "+---+-----+---------+-----------+--------------+-------------+--------------------+--------------------+--------+\n",
      "| ID| area|perimeter|compactness|lengthOfKernel|widthOfKernel|asymmetryCoefficient|lengthOfKernelGroove|seedType|\n",
      "+---+-----+---------+-----------+--------------+-------------+--------------------+--------------------+--------+\n",
      "|  1|15.26|    14.84|      0.871|         5.763|        3.312|               2.221|                5.22|       1|\n",
      "|  2|14.88|    14.57|     0.8811|         5.554|        3.333|               1.018|               4.956|       1|\n",
      "|  3|14.29|    14.09|      0.905|         5.291|        3.337|               2.699|               4.825|       1|\n",
      "|  4|13.84|    13.94|     0.8955|         5.324|        3.379|               2.259|               4.805|       1|\n",
      "|  5|16.14|    14.99|     0.9034|         5.658|        3.562|               1.355|               5.175|       1|\n",
      "+---+-----+---------+-----------+--------------+-------------+--------------------+--------------------+--------+\n",
      "only showing top 5 rows\n",
      "\n"
     ]
    }
   ],
   "source": [
    "data.show(5)"
   ]
  },
  {
   "cell_type": "code",
   "execution_count": 8,
   "metadata": {},
   "outputs": [],
   "source": [
    "from pyspark.ml.clustering import KMeans,KMeansModel"
   ]
  },
  {
   "cell_type": "code",
   "execution_count": 9,
   "metadata": {},
   "outputs": [],
   "source": [
    "from pyspark.ml.feature import VectorAssembler"
   ]
  },
  {
   "cell_type": "code",
   "execution_count": 11,
   "metadata": {},
   "outputs": [
    {
     "data": {
      "text/plain": [
       "['ID',\n",
       " 'area',\n",
       " 'perimeter',\n",
       " 'compactness',\n",
       " 'lengthOfKernel',\n",
       " 'widthOfKernel',\n",
       " 'asymmetryCoefficient',\n",
       " 'lengthOfKernelGroove',\n",
       " 'seedType']"
      ]
     },
     "execution_count": 11,
     "metadata": {},
     "output_type": "execute_result"
    }
   ],
   "source": [
    "data.columns"
   ]
  },
  {
   "cell_type": "code",
   "execution_count": 13,
   "metadata": {},
   "outputs": [],
   "source": [
    "assembler=VectorAssembler(inputCols=['area',\n",
    " 'perimeter',\n",
    " 'compactness',\n",
    " 'lengthOfKernel',\n",
    " 'widthOfKernel',\n",
    " 'asymmetryCoefficient',\n",
    " 'lengthOfKernelGroove'],outputCol='features')"
   ]
  },
  {
   "cell_type": "code",
   "execution_count": 14,
   "metadata": {},
   "outputs": [],
   "source": [
    "final_data=assembler.transform(data)"
   ]
  },
  {
   "cell_type": "code",
   "execution_count": 15,
   "metadata": {},
   "outputs": [
    {
     "name": "stdout",
     "output_type": "stream",
     "text": [
      "+---+-----+---------+-----------+--------------+-------------+--------------------+--------------------+--------+--------------------+\n",
      "| ID| area|perimeter|compactness|lengthOfKernel|widthOfKernel|asymmetryCoefficient|lengthOfKernelGroove|seedType|            features|\n",
      "+---+-----+---------+-----------+--------------+-------------+--------------------+--------------------+--------+--------------------+\n",
      "|  1|15.26|    14.84|      0.871|         5.763|        3.312|               2.221|                5.22|       1|[15.26,14.84,0.87...|\n",
      "|  2|14.88|    14.57|     0.8811|         5.554|        3.333|               1.018|               4.956|       1|[14.88,14.57,0.88...|\n",
      "|  3|14.29|    14.09|      0.905|         5.291|        3.337|               2.699|               4.825|       1|[14.29,14.09,0.90...|\n",
      "|  4|13.84|    13.94|     0.8955|         5.324|        3.379|               2.259|               4.805|       1|[13.84,13.94,0.89...|\n",
      "|  5|16.14|    14.99|     0.9034|         5.658|        3.562|               1.355|               5.175|       1|[16.14,14.99,0.90...|\n",
      "+---+-----+---------+-----------+--------------+-------------+--------------------+--------------------+--------+--------------------+\n",
      "only showing top 5 rows\n",
      "\n"
     ]
    }
   ],
   "source": [
    "final_data.show(5)"
   ]
  },
  {
   "cell_type": "code",
   "execution_count": 16,
   "metadata": {},
   "outputs": [],
   "source": [
    "from pyspark.ml.feature import StandardScaler"
   ]
  },
  {
   "cell_type": "code",
   "execution_count": 17,
   "metadata": {},
   "outputs": [],
   "source": [
    "scaler=StandardScaler(inputCol='features',outputCol='scaledFeatures')"
   ]
  },
  {
   "cell_type": "code",
   "execution_count": 22,
   "metadata": {},
   "outputs": [],
   "source": [
    "scaler_model=scaler.fit(final_data)"
   ]
  },
  {
   "cell_type": "code",
   "execution_count": 23,
   "metadata": {},
   "outputs": [],
   "source": [
    "final_data=scaler_model.transform(final_data)"
   ]
  },
  {
   "cell_type": "code",
   "execution_count": 25,
   "metadata": {},
   "outputs": [
    {
     "data": {
      "text/plain": [
       "[Row(ID=1, area=15.26, perimeter=14.84, compactness=0.871, lengthOfKernel=5.763, widthOfKernel=3.312, asymmetryCoefficient=2.221, lengthOfKernelGroove=5.22, seedType=1, features=DenseVector([15.26, 14.84, 0.871, 5.763, 3.312, 2.221, 5.22]), scaledFeatures=DenseVector([5.2445, 11.3633, 36.8608, 13.0072, 8.7685, 1.4772, 10.621]))]"
      ]
     },
     "execution_count": 25,
     "metadata": {},
     "output_type": "execute_result"
    }
   ],
   "source": [
    "final_data.head(1)"
   ]
  },
  {
   "cell_type": "code",
   "execution_count": 26,
   "metadata": {},
   "outputs": [],
   "source": [
    "kmeans=KMeans(featuresCol='scaledFeatures',k=3)"
   ]
  },
  {
   "cell_type": "code",
   "execution_count": 29,
   "metadata": {},
   "outputs": [],
   "source": [
    "model=kmeans.fit(final_data)"
   ]
  },
  {
   "cell_type": "code",
   "execution_count": 30,
   "metadata": {},
   "outputs": [
    {
     "ename": "AttributeError",
     "evalue": "'KMeansModel' object has no attribute 'computeCost'",
     "output_type": "error",
     "traceback": [
      "\u001b[1;31m---------------------------------------------------------------------------\u001b[0m",
      "\u001b[1;31mAttributeError\u001b[0m                            Traceback (most recent call last)",
      "\u001b[1;32m<ipython-input-30-d496ddd4d684>\u001b[0m in \u001b[0;36m<module>\u001b[1;34m\u001b[0m\n\u001b[1;32m----> 1\u001b[1;33m \u001b[0mwssse\u001b[0m\u001b[1;33m=\u001b[0m\u001b[0mmodel\u001b[0m\u001b[1;33m.\u001b[0m\u001b[0mcomputeCost\u001b[0m\u001b[1;33m(\u001b[0m\u001b[0mfinal_data\u001b[0m\u001b[1;33m)\u001b[0m\u001b[1;33m\u001b[0m\u001b[1;33m\u001b[0m\u001b[0m\n\u001b[0m",
      "\u001b[1;31mAttributeError\u001b[0m: 'KMeansModel' object has no attribute 'computeCost'"
     ]
    }
   ],
   "source": [
    "wssse=model.computeCost(final_data)"
   ]
  },
  {
   "cell_type": "code",
   "execution_count": 35,
   "metadata": {},
   "outputs": [],
   "source": [
    "centers=model.clusterCenters()"
   ]
  },
  {
   "cell_type": "code",
   "execution_count": 36,
   "metadata": {},
   "outputs": [
    {
     "data": {
      "text/plain": [
       "[array([ 4.96198582, 10.97871333, 37.30930808, 12.44647267,  8.62880781,\n",
       "         1.80062386, 10.41913733]),\n",
       " array([ 6.35645488, 12.40730852, 37.41990178, 13.93860446,  9.7892399 ,\n",
       "         2.41585309, 12.29286107]),\n",
       " array([ 4.07497225, 10.14410142, 35.89816849, 11.80812742,  7.54416916,\n",
       "         3.15411286, 10.38031464])]"
      ]
     },
     "execution_count": 36,
     "metadata": {},
     "output_type": "execute_result"
    }
   ],
   "source": [
    "centers"
   ]
  },
  {
   "cell_type": "code",
   "execution_count": 38,
   "metadata": {},
   "outputs": [
    {
     "name": "stdout",
     "output_type": "stream",
     "text": [
      "+---+-----+---------+-----------+--------------+-------------+--------------------+--------------------+--------+--------------------+--------------------+----------+\n",
      "| ID| area|perimeter|compactness|lengthOfKernel|widthOfKernel|asymmetryCoefficient|lengthOfKernelGroove|seedType|            features|      scaledFeatures|prediction|\n",
      "+---+-----+---------+-----------+--------------+-------------+--------------------+--------------------+--------+--------------------+--------------------+----------+\n",
      "|  1|15.26|    14.84|      0.871|         5.763|        3.312|               2.221|                5.22|       1|[15.26,14.84,0.87...|[5.24452795332028...|         0|\n",
      "|  2|14.88|    14.57|     0.8811|         5.554|        3.333|               1.018|               4.956|       1|[14.88,14.57,0.88...|[5.11393027165175...|         0|\n",
      "|  3|14.29|    14.09|      0.905|         5.291|        3.337|               2.699|               4.825|       1|[14.29,14.09,0.90...|[4.91116018695588...|         0|\n",
      "|  4|13.84|    13.94|     0.8955|         5.324|        3.379|               2.259|               4.805|       1|[13.84,13.94,0.89...|[4.75650503761158...|         0|\n",
      "|  5|16.14|    14.99|     0.9034|         5.658|        3.562|               1.355|               5.175|       1|[16.14,14.99,0.90...|[5.54696468981581...|         0|\n",
      "+---+-----+---------+-----------+--------------+-------------+--------------------+--------------------+--------+--------------------+--------------------+----------+\n",
      "only showing top 5 rows\n",
      "\n"
     ]
    }
   ],
   "source": [
    "model.transform(final_data).show(5)"
   ]
  },
  {
   "cell_type": "code",
   "execution_count": 40,
   "metadata": {},
   "outputs": [
    {
     "name": "stdout",
     "output_type": "stream",
     "text": [
      "+----------+\n",
      "|prediction|\n",
      "+----------+\n",
      "|         0|\n",
      "|         0|\n",
      "|         0|\n",
      "|         0|\n",
      "|         0|\n",
      "|         0|\n",
      "|         0|\n",
      "|         0|\n",
      "|         1|\n",
      "|         0|\n",
      "|         0|\n",
      "|         0|\n",
      "|         0|\n",
      "|         0|\n",
      "|         0|\n",
      "|         0|\n",
      "|         0|\n",
      "|         0|\n",
      "|         0|\n",
      "|         2|\n",
      "+----------+\n",
      "only showing top 20 rows\n",
      "\n"
     ]
    }
   ],
   "source": [
    "model.transform(final_data).select('prediction').show()"
   ]
  },
  {
   "cell_type": "code",
   "execution_count": null,
   "metadata": {},
   "outputs": [],
   "source": []
  }
 ],
 "metadata": {
  "kernelspec": {
   "display_name": "Python 3",
   "language": "python",
   "name": "python3"
  },
  "language_info": {
   "codemirror_mode": {
    "name": "ipython",
    "version": 3
   },
   "file_extension": ".py",
   "mimetype": "text/x-python",
   "name": "python",
   "nbconvert_exporter": "python",
   "pygments_lexer": "ipython3",
   "version": "3.7.4"
  }
 },
 "nbformat": 4,
 "nbformat_minor": 2
}
