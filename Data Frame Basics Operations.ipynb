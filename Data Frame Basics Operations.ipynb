{
 "cells": [
  {
   "cell_type": "code",
   "execution_count": 4,
   "metadata": {},
   "outputs": [],
   "source": [
    "from pyspark.sql import SparkSession\n"
   ]
  },
  {
   "cell_type": "code",
   "execution_count": 5,
   "metadata": {},
   "outputs": [],
   "source": [
    "spark=SparkSession.builder.appName('Basic Operation').getOrCreate()"
   ]
  },
  {
   "cell_type": "code",
   "execution_count": 10,
   "metadata": {},
   "outputs": [],
   "source": [
    "input_file_path=\"file:///C:/Users/ckp43_000/Documents/AAPL.csv\""
   ]
  },
  {
   "cell_type": "code",
   "execution_count": 11,
   "metadata": {},
   "outputs": [],
   "source": [
    "df=spark.read.csv(input_file_path,inferSchema=True,header=True)"
   ]
  },
  {
   "cell_type": "code",
   "execution_count": 13,
   "metadata": {},
   "outputs": [
    {
     "name": "stdout",
     "output_type": "stream",
     "text": [
      "root\n",
      " |-- Date: string (nullable = true)\n",
      " |-- Open: double (nullable = true)\n",
      " |-- High: double (nullable = true)\n",
      " |-- Low: double (nullable = true)\n",
      " |-- Close: double (nullable = true)\n",
      " |-- Adj Close: double (nullable = true)\n",
      " |-- Volume: integer (nullable = true)\n",
      "\n"
     ]
    }
   ],
   "source": [
    "df.printSchema()"
   ]
  },
  {
   "cell_type": "code",
   "execution_count": 15,
   "metadata": {},
   "outputs": [
    {
     "name": "stdout",
     "output_type": "stream",
     "text": [
      "+----------+----------+----------+----------+----------+----------+---------+\n",
      "|      Date|      Open|      High|       Low|     Close| Adj Close|   Volume|\n",
      "+----------+----------+----------+----------+----------+----------+---------+\n",
      "|2014-09-29|100.589996|100.690002| 98.040001| 99.620003|  93.51429|142718700|\n",
      "|2014-10-06| 99.949997|102.379997| 98.309998|100.730003| 94.556244|280258200|\n",
      "|2014-10-13|101.330002|101.779999|     95.18| 97.669998| 91.683792|358539800|\n",
      "|2014-10-20|     98.32|105.489998| 98.220001|105.220001| 98.771042|358532900|\n",
      "|2014-10-27|104.849998|108.040001|104.699997|     108.0|101.380676|220230600|\n",
      "|2014-11-03|108.220001|110.300003|107.720001|109.010002|102.328766|199952900|\n",
      "|2014-11-10|109.019997|114.190002|108.400002|    114.18|107.646675|205166700|\n",
      "|2014-11-17|114.269997|    117.57|113.300003|116.470001|109.805626|233414700|\n",
      "|2014-11-24|116.849998|    119.75|116.620003|    118.93|112.124863|181873900|\n",
      "|2014-12-01|118.809998|    119.25|111.269997|     115.0|108.419746|266589700|\n",
      "+----------+----------+----------+----------+----------+----------+---------+\n",
      "only showing top 10 rows\n",
      "\n"
     ]
    }
   ],
   "source": [
    "df.show(10)"
   ]
  },
  {
   "cell_type": "markdown",
   "metadata": {},
   "source": [
    "## To get a better view in data frame use head()[]"
   ]
  },
  {
   "cell_type": "code",
   "execution_count": 17,
   "metadata": {},
   "outputs": [
    {
     "data": {
      "text/plain": [
       "[Row(Date='2014-09-29', Open=100.589996, High=100.690002, Low=98.040001, Close=99.620003, Adj Close=93.51429, Volume=142718700),\n",
       " Row(Date='2014-10-06', Open=99.949997, High=102.379997, Low=98.309998, Close=100.730003, Adj Close=94.556244, Volume=280258200),\n",
       " Row(Date='2014-10-13', Open=101.330002, High=101.779999, Low=95.18, Close=97.669998, Adj Close=91.683792, Volume=358539800)]"
      ]
     },
     "execution_count": 17,
     "metadata": {},
     "output_type": "execute_result"
    }
   ],
   "source": [
    "df.head(3)"
   ]
  },
  {
   "cell_type": "code",
   "execution_count": 18,
   "metadata": {
    "scrolled": true
   },
   "outputs": [
    {
     "data": {
      "text/plain": [
       "list"
      ]
     },
     "execution_count": 18,
     "metadata": {},
     "output_type": "execute_result"
    }
   ],
   "source": [
    "type(df.head(3))"
   ]
  },
  {
   "cell_type": "code",
   "execution_count": null,
   "metadata": {},
   "outputs": [],
   "source": [
    "## since it's a list type we can do indexing like list "
   ]
  },
  {
   "cell_type": "code",
   "execution_count": 20,
   "metadata": {
    "scrolled": true
   },
   "outputs": [
    {
     "data": {
      "text/plain": [
       "Row(Date='2014-09-29', Open=100.589996, High=100.690002, Low=98.040001, Close=99.620003, Adj Close=93.51429, Volume=142718700)"
      ]
     },
     "execution_count": 20,
     "metadata": {},
     "output_type": "execute_result"
    }
   ],
   "source": [
    "df.head(3)[0]"
   ]
  },
  {
   "cell_type": "markdown",
   "metadata": {},
   "source": [
    "## executing Data Frame query like sql "
   ]
  },
  {
   "cell_type": "code",
   "execution_count": 22,
   "metadata": {},
   "outputs": [
    {
     "name": "stdout",
     "output_type": "stream",
     "text": [
      "+----------+----------+----------+----------+----------+----------+---------+\n",
      "|      Date|      Open|      High|       Low|     Close| Adj Close|   Volume|\n",
      "+----------+----------+----------+----------+----------+----------+---------+\n",
      "|2014-09-29|100.589996|100.690002| 98.040001| 99.620003|  93.51429|142718700|\n",
      "|2014-10-06| 99.949997|102.379997| 98.309998|100.730003| 94.556244|280258200|\n",
      "|2014-10-13|101.330002|101.779999|     95.18| 97.669998| 91.683792|358539800|\n",
      "|2014-10-20|     98.32|105.489998| 98.220001|105.220001| 98.771042|358532900|\n",
      "|2014-10-27|104.849998|108.040001|104.699997|     108.0|101.380676|220230600|\n",
      "|2014-11-03|108.220001|110.300003|107.720001|109.010002|102.328766|199952900|\n",
      "|2014-11-10|109.019997|114.190002|108.400002|    114.18|107.646675|205166700|\n",
      "|2014-11-17|114.269997|    117.57|113.300003|116.470001|109.805626|233414700|\n",
      "|2014-11-24|116.849998|    119.75|116.620003|    118.93|112.124863|181873900|\n",
      "|2014-12-01|118.809998|    119.25|111.269997|     115.0|108.419746|266589700|\n",
      "|2014-12-08|114.099998|114.849998|109.349998|109.730003|103.451294|259868000|\n",
      "|2014-12-15|110.699997|113.239998|106.260002|111.779999| 105.38398|328856600|\n",
      "|2014-12-22|112.160004|114.519997|111.970001|113.989998|107.467529|119396500|\n",
      "|2014-12-29|113.790001|114.769997|107.349998|109.330002|103.074181|152088400|\n",
      "|2015-01-05|108.290001|    113.25|104.629997|112.010002| 105.60083|283252500|\n",
      "|2015-01-12|112.599998|112.800003|105.199997|105.989998| 99.925285|303607000|\n",
      "|2015-01-19|107.839996|    113.75|     106.5|112.980003|106.515343|198737000|\n",
      "|2015-01-26|113.739998|     120.0|109.029999|117.160004|110.456146|465842700|\n",
      "|2015-02-02|118.050003|120.510002|116.080002|    118.93|112.124863|270757300|\n",
      "|2015-02-09|118.550003|127.480003|    118.43|127.080002|120.281372|303206800|\n",
      "+----------+----------+----------+----------+----------+----------+---------+\n",
      "only showing top 20 rows\n",
      "\n"
     ]
    }
   ],
   "source": [
    "df.filter(\"close<500\").show()"
   ]
  },
  {
   "cell_type": "code",
   "execution_count": 23,
   "metadata": {
    "scrolled": true
   },
   "outputs": [
    {
     "name": "stdout",
     "output_type": "stream",
     "text": [
      "+----------+----------+----------+\n",
      "|      Date|      High|     close|\n",
      "+----------+----------+----------+\n",
      "|2014-09-29|100.690002| 99.620003|\n",
      "|2014-10-06|102.379997|100.730003|\n",
      "|2014-10-13|101.779999| 97.669998|\n",
      "|2014-10-20|105.489998|105.220001|\n",
      "|2014-10-27|108.040001|     108.0|\n",
      "|2014-11-03|110.300003|109.010002|\n",
      "|2014-11-10|114.190002|    114.18|\n",
      "|2014-11-17|    117.57|116.470001|\n",
      "|2014-11-24|    119.75|    118.93|\n",
      "|2014-12-01|    119.25|     115.0|\n",
      "|2014-12-08|114.849998|109.730003|\n",
      "|2014-12-15|113.239998|111.779999|\n",
      "|2014-12-22|114.519997|113.989998|\n",
      "|2014-12-29|114.769997|109.330002|\n",
      "|2015-01-05|    113.25|112.010002|\n",
      "|2015-01-12|112.800003|105.989998|\n",
      "|2015-01-19|    113.75|112.980003|\n",
      "|2015-01-26|     120.0|117.160004|\n",
      "|2015-02-02|120.510002|    118.93|\n",
      "|2015-02-09|127.480003|127.080002|\n",
      "+----------+----------+----------+\n",
      "only showing top 20 rows\n",
      "\n"
     ]
    }
   ],
   "source": [
    "df.filter(\"close<500\").select('Date','High','close').show()"
   ]
  },
  {
   "cell_type": "markdown",
   "metadata": {},
   "source": [
    "## same result from below query"
   ]
  },
  {
   "cell_type": "code",
   "execution_count": 27,
   "metadata": {},
   "outputs": [
    {
     "name": "stdout",
     "output_type": "stream",
     "text": [
      "+----------+----------+----------+\n",
      "|      Date|      High|     Close|\n",
      "+----------+----------+----------+\n",
      "|2014-09-29|100.690002| 99.620003|\n",
      "|2014-10-06|102.379997|100.730003|\n",
      "|2014-10-13|101.779999| 97.669998|\n",
      "|2014-10-20|105.489998|105.220001|\n",
      "|2014-10-27|108.040001|     108.0|\n",
      "|2014-11-03|110.300003|109.010002|\n",
      "|2014-11-10|114.190002|    114.18|\n",
      "|2014-11-17|    117.57|116.470001|\n",
      "|2014-11-24|    119.75|    118.93|\n",
      "|2014-12-01|    119.25|     115.0|\n",
      "|2014-12-08|114.849998|109.730003|\n",
      "|2014-12-15|113.239998|111.779999|\n",
      "|2014-12-22|114.519997|113.989998|\n",
      "|2014-12-29|114.769997|109.330002|\n",
      "|2015-01-05|    113.25|112.010002|\n",
      "|2015-01-12|112.800003|105.989998|\n",
      "|2015-01-19|    113.75|112.980003|\n",
      "|2015-01-26|     120.0|117.160004|\n",
      "|2015-02-02|120.510002|    118.93|\n",
      "|2015-02-09|127.480003|127.080002|\n",
      "+----------+----------+----------+\n",
      "only showing top 20 rows\n",
      "\n"
     ]
    }
   ],
   "source": [
    "df.filter(df['close']<500).select('Date','High','Close').show()"
   ]
  },
  {
   "cell_type": "markdown",
   "metadata": {},
   "source": [
    "## Filtering on more than one column"
   ]
  },
  {
   "cell_type": "code",
   "execution_count": 30,
   "metadata": {},
   "outputs": [
    {
     "name": "stdout",
     "output_type": "stream",
     "text": [
      "+----------+----------+----------+---------+---------+---------+---------+\n",
      "|      Date|      Open|      High|      Low|    Close|Adj Close|   Volume|\n",
      "+----------+----------+----------+---------+---------+---------+---------+\n",
      "|2014-09-29|100.589996|100.690002|98.040001|99.620003| 93.51429|142718700|\n",
      "|2014-10-13|101.330002|101.779999|    95.18|97.669998|91.683792|358539800|\n",
      "|2016-01-04|102.610001|105.849998|    96.43|96.959999| 92.96949|343790200|\n",
      "|2016-01-11| 98.970001|101.190002|95.360001|97.129997|93.132492|303513300|\n",
      "|2016-01-25|101.519997|101.529999|92.389999|97.339996|93.333847|380336500|\n",
      "|2016-02-01| 96.470001| 97.330002|93.690002|94.019997|90.150482|217154800|\n",
      "|2016-02-08| 93.129997| 96.349998|92.589996|93.989998|90.610756|231122300|\n",
      "|2016-02-15| 95.019997| 98.889999|94.610001|96.040001|92.587051|168316300|\n",
      "|2016-02-22| 96.309998| 98.019997|    93.32|96.910004|93.425774|159052900|\n",
      "|2016-04-25|     105.0|105.650002|92.510002|93.739998|90.369751|349424100|\n",
      "|2016-05-02| 93.970001| 95.900002|91.849998|92.720001|89.386421|225365600|\n",
      "|2016-05-09|      93.0| 93.769997|89.470001|90.519997|87.796822|216049800|\n",
      "|2016-05-16| 92.389999|     95.43|91.650002|95.220001|92.355438|212707200|\n",
      "|2016-05-30| 99.599998|100.400002|96.629997|97.919998| 94.97419|139735000|\n",
      "|2016-06-06| 97.989998|101.889999|97.550003|98.830002|95.856812|124864400|\n",
      "|2016-06-13| 98.690002| 99.120003|95.300003|95.330002|92.462112|191732600|\n",
      "|2016-06-20|      96.0| 96.889999|92.650002|93.400002|90.590179|206729000|\n",
      "|2016-06-27|      93.0| 96.470001|     91.5|95.889999|93.005264|184328400|\n",
      "|2016-07-04| 95.389999| 96.889999|94.370003|    96.68|93.771507|112706000|\n",
      "|2016-07-11|     96.75| 99.300003|96.730003|98.779999|95.808327|142910600|\n",
      "+----------+----------+----------+---------+---------+---------+---------+\n",
      "only showing top 20 rows\n",
      "\n"
     ]
    }
   ],
   "source": [
    "df.filter((df['close']<500) & (df['close']<100)).show(20)"
   ]
  },
  {
   "cell_type": "markdown",
   "metadata": {},
   "source": [
    "## use of collect "
   ]
  },
  {
   "cell_type": "code",
   "execution_count": 34,
   "metadata": {},
   "outputs": [
    {
     "data": {
      "text/plain": [
       "[Row(Date='2016-02-22', Open=96.309998, High=98.019997, Low=93.32, Close=96.910004, Adj Close=93.425774, Volume=159052900)]"
      ]
     },
     "execution_count": 34,
     "metadata": {},
     "output_type": "execute_result"
    }
   ],
   "source": [
    "df.filter(df['Low']==93.32).collect()"
   ]
  },
  {
   "cell_type": "code",
   "execution_count": 35,
   "metadata": {},
   "outputs": [
    {
     "data": {
      "text/plain": [
       "list"
      ]
     },
     "execution_count": 35,
     "metadata": {},
     "output_type": "execute_result"
    }
   ],
   "source": [
    "type(df.filter(df['Low']==93.32).collect())"
   ]
  },
  {
   "cell_type": "code",
   "execution_count": 36,
   "metadata": {},
   "outputs": [],
   "source": [
    "result=df.filter(df['Low']==93.32).collect()"
   ]
  },
  {
   "cell_type": "code",
   "execution_count": 38,
   "metadata": {},
   "outputs": [
    {
     "data": {
      "text/plain": [
       "[Row(Date='2016-02-22', Open=96.309998, High=98.019997, Low=93.32, Close=96.910004, Adj Close=93.425774, Volume=159052900)]"
      ]
     },
     "execution_count": 38,
     "metadata": {},
     "output_type": "execute_result"
    }
   ],
   "source": [
    "result"
   ]
  },
  {
   "cell_type": "code",
   "execution_count": 39,
   "metadata": {},
   "outputs": [
    {
     "ename": "AttributeError",
     "evalue": "'list' object has no attribute 'show'",
     "output_type": "error",
     "traceback": [
      "\u001b[1;31m---------------------------------------------------------------------------\u001b[0m",
      "\u001b[1;31mAttributeError\u001b[0m                            Traceback (most recent call last)",
      "\u001b[1;32m<ipython-input-39-e3c4c53dc2a1>\u001b[0m in \u001b[0;36m<module>\u001b[1;34m\u001b[0m\n\u001b[1;32m----> 1\u001b[1;33m \u001b[0mresult\u001b[0m\u001b[1;33m.\u001b[0m\u001b[0mshow\u001b[0m\u001b[1;33m(\u001b[0m\u001b[1;36m10\u001b[0m\u001b[1;33m)\u001b[0m\u001b[1;33m\u001b[0m\u001b[1;33m\u001b[0m\u001b[0m\n\u001b[0m",
      "\u001b[1;31mAttributeError\u001b[0m: 'list' object has no attribute 'show'"
     ]
    }
   ],
   "source": [
    " result.show(10)"
   ]
  },
  {
   "cell_type": "code",
   "execution_count": 40,
   "metadata": {},
   "outputs": [
    {
     "data": {
      "text/plain": [
       "Row(Date='2016-02-22', Open=96.309998, High=98.019997, Low=93.32, Close=96.910004, Adj Close=93.425774, Volume=159052900)"
      ]
     },
     "execution_count": 40,
     "metadata": {},
     "output_type": "execute_result"
    }
   ],
   "source": [
    "result[0]"
   ]
  },
  {
   "cell_type": "code",
   "execution_count": 43,
   "metadata": {},
   "outputs": [],
   "source": [
    "row=result[0]"
   ]
  },
  {
   "cell_type": "code",
   "execution_count": 46,
   "metadata": {},
   "outputs": [
    {
     "data": {
      "text/plain": [
       "<function Row.count(value, /)>"
      ]
     },
     "execution_count": 46,
     "metadata": {},
     "output_type": "execute_result"
    }
   ],
   "source": [
    "row.count"
   ]
  },
  {
   "cell_type": "code",
   "execution_count": 47,
   "metadata": {},
   "outputs": [
    {
     "data": {
      "text/plain": [
       "<function Row.index(value, start=0, stop=9223372036854775807, /)>"
      ]
     },
     "execution_count": 47,
     "metadata": {},
     "output_type": "execute_result"
    }
   ],
   "source": [
    "row.index"
   ]
  },
  {
   "cell_type": "code",
   "execution_count": 49,
   "metadata": {},
   "outputs": [
    {
     "data": {
      "text/plain": [
       "{'Date': '2016-02-22',\n",
       " 'Open': 96.309998,\n",
       " 'High': 98.019997,\n",
       " 'Low': 93.32,\n",
       " 'Close': 96.910004,\n",
       " 'Adj Close': 93.425774,\n",
       " 'Volume': 159052900}"
      ]
     },
     "execution_count": 49,
     "metadata": {},
     "output_type": "execute_result"
    }
   ],
   "source": [
    "row.asDict()"
   ]
  },
  {
   "cell_type": "code",
   "execution_count": 51,
   "metadata": {},
   "outputs": [
    {
     "data": {
      "text/plain": [
       "159052900"
      ]
     },
     "execution_count": 51,
     "metadata": {},
     "output_type": "execute_result"
    }
   ],
   "source": [
    "row.asDict()['Volume']"
   ]
  },
  {
   "cell_type": "code",
   "execution_count": 53,
   "metadata": {},
   "outputs": [
    {
     "data": {
      "text/plain": [
       "dict"
      ]
     },
     "execution_count": 53,
     "metadata": {},
     "output_type": "execute_result"
    }
   ],
   "source": [
    "type(row.asDict())"
   ]
  },
  {
   "cell_type": "code",
   "execution_count": 54,
   "metadata": {},
   "outputs": [
    {
     "data": {
      "text/plain": [
       "DataFrame[Date: string, Open: double, High: double, Low: double, Close: double, Adj Close: double, Volume: int]"
      ]
     },
     "execution_count": 54,
     "metadata": {},
     "output_type": "execute_result"
    }
   ],
   "source": [
    "df"
   ]
  },
  {
   "cell_type": "code",
   "execution_count": 55,
   "metadata": {},
   "outputs": [
    {
     "name": "stdout",
     "output_type": "stream",
     "text": [
      "+----------+----------+----------+----------+----------+----------+---------+\n",
      "|      Date|      Open|      High|       Low|     Close| Adj Close|   Volume|\n",
      "+----------+----------+----------+----------+----------+----------+---------+\n",
      "|2014-09-29|100.589996|100.690002| 98.040001| 99.620003|  93.51429|142718700|\n",
      "|2014-10-06| 99.949997|102.379997| 98.309998|100.730003| 94.556244|280258200|\n",
      "|2014-10-13|101.330002|101.779999|     95.18| 97.669998| 91.683792|358539800|\n",
      "|2014-10-20|     98.32|105.489998| 98.220001|105.220001| 98.771042|358532900|\n",
      "|2014-10-27|104.849998|108.040001|104.699997|     108.0|101.380676|220230600|\n",
      "+----------+----------+----------+----------+----------+----------+---------+\n",
      "only showing top 5 rows\n",
      "\n"
     ]
    }
   ],
   "source": [
    "df.show(5)"
   ]
  },
  {
   "cell_type": "code",
   "execution_count": null,
   "metadata": {},
   "outputs": [],
   "source": []
  }
 ],
 "metadata": {
  "kernelspec": {
   "display_name": "Python 3",
   "language": "python",
   "name": "python3"
  },
  "language_info": {
   "codemirror_mode": {
    "name": "ipython",
    "version": 3
   },
   "file_extension": ".py",
   "mimetype": "text/x-python",
   "name": "python",
   "nbconvert_exporter": "python",
   "pygments_lexer": "ipython3",
   "version": "3.7.4"
  }
 },
 "nbformat": 4,
 "nbformat_minor": 2
}
