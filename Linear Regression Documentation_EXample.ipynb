{
 "cells": [
  {
   "cell_type": "code",
   "execution_count": 1,
   "metadata": {},
   "outputs": [],
   "source": [
    "from pyspark.sql import SparkSession"
   ]
  },
  {
   "cell_type": "code",
   "execution_count": 2,
   "metadata": {},
   "outputs": [],
   "source": [
    "spark=SparkSession.builder.appName('ml').getOrCreate()"
   ]
  },
  {
   "cell_type": "code",
   "execution_count": 3,
   "metadata": {},
   "outputs": [
    {
     "data": {
      "text/html": [
       "\n",
       "            <div>\n",
       "                <p><b>SparkSession - in-memory</b></p>\n",
       "                \n",
       "        <div>\n",
       "            <p><b>SparkContext</b></p>\n",
       "\n",
       "            <p><a href=\"http://cpc.mshome.net:4041\">Spark UI</a></p>\n",
       "\n",
       "            <dl>\n",
       "              <dt>Version</dt>\n",
       "                <dd><code>v3.0.0-preview2</code></dd>\n",
       "              <dt>Master</dt>\n",
       "                <dd><code>local[*]</code></dd>\n",
       "              <dt>AppName</dt>\n",
       "                <dd><code>ml</code></dd>\n",
       "            </dl>\n",
       "        </div>\n",
       "        \n",
       "            </div>\n",
       "        "
      ],
      "text/plain": [
       "<pyspark.sql.session.SparkSession at 0x111bd1b708>"
      ]
     },
     "execution_count": 3,
     "metadata": {},
     "output_type": "execute_result"
    }
   ],
   "source": [
    "spark"
   ]
  },
  {
   "cell_type": "code",
   "execution_count": 4,
   "metadata": {},
   "outputs": [],
   "source": [
    "from pyspark.ml.regression import LinearRegression"
   ]
  },
  {
   "cell_type": "code",
   "execution_count": 5,
   "metadata": {},
   "outputs": [],
   "source": [
    "trainning=spark.read.format('libsvm').load(\"file:///C:/Users/ckp43_000/Documents/a1a.t\")"
   ]
  },
  {
   "cell_type": "code",
   "execution_count": 7,
   "metadata": {},
   "outputs": [
    {
     "name": "stdout",
     "output_type": "stream",
     "text": [
      "+-----+--------------------+\n",
      "|label|            features|\n",
      "+-----+--------------------+\n",
      "| -1.0|(123,[4,6,13,18,3...|\n",
      "| -1.0|(123,[2,5,16,21,3...|\n",
      "| -1.0|(123,[4,5,16,20,3...|\n",
      "| -1.0|(123,[1,5,17,18,3...|\n",
      "| -1.0|(123,[2,5,17,28,3...|\n",
      "| -1.0|(123,[3,5,15,25,3...|\n",
      "|  1.0|(123,[4,6,16,21,3...|\n",
      "|  1.0|(123,[1,5,13,28,3...|\n",
      "|  1.0|(123,[3,5,15,18,3...|\n",
      "|  1.0|(123,[2,5,17,19,3...|\n",
      "+-----+--------------------+\n",
      "only showing top 10 rows\n",
      "\n"
     ]
    }
   ],
   "source": [
    "trainning.show(10)"
   ]
  },
  {
   "cell_type": "code",
   "execution_count": 11,
   "metadata": {},
   "outputs": [
    {
     "data": {
      "text/plain": [
       "30956"
      ]
     },
     "execution_count": 11,
     "metadata": {},
     "output_type": "execute_result"
    }
   ],
   "source": [
    "trainning.count()"
   ]
  },
  {
   "cell_type": "code",
   "execution_count": 10,
   "metadata": {},
   "outputs": [],
   "source": [
    "lr=LinearRegression(featuresCol='features',labelCol='label',\n",
    "                   predictionCol='Prediction')"
   ]
  },
  {
   "cell_type": "code",
   "execution_count": 12,
   "metadata": {},
   "outputs": [],
   "source": [
    "lrModel=lr.fit(trainning)"
   ]
  },
  {
   "cell_type": "code",
   "execution_count": 13,
   "metadata": {},
   "outputs": [
    {
     "data": {
      "text/plain": [
       "DenseVector([-0.1118, -0.1311, 0.025, 0.1132, 0.0884, 0.0764, -0.0541, 0.2045, 0.2042, -0.0015, -0.0136, -0.2741, 0.0631, -0.0362, 0.007, 0.0049, 0.0059, 0.0183, 0.04, -0.0135, -0.0374, -0.059, 0.3852, 0.0084, -0.0059, -0.1462, -0.2187, 0.0055, 0.1921, -0.1732, -0.0657, 0.4319, -0.1375, -0.1659, -0.1063, -0.059, -0.0135, 0.0004, 0.1461, 0.1384, -0.1085, -0.0822, -0.071, -0.0347, -0.0351, 0.3149, 0.137, -0.0344, -0.0399, 0.0697, 0.2281, 0.1271, -0.1139, -0.1057, -0.0015, -0.2193, -0.0907, 0.0155, 0.1646, -0.2445, 0.3815, -0.0831, 0.1491, -0.1474, -0.0825, -0.1269, 0.0116, 0.0178, -0.0486, -0.0412, -0.0139, -0.0545, 0.0545, -0.2558, 0.2558, -0.1732, 0.1732, -0.1244, -0.0482, -0.0326, 0.082, 0.1351, 0.1004, 0.2886, 0.1889, 0.0205, 0.1378, 0.1523, -0.209, -0.018, 0.1145, -0.2024, -0.123, -0.1041, 0.0778, 0.0802, 0.0352, 0.1316, 0.1516, -0.0225, 0.0913, -0.1045, 0.012, -0.0185, 0.2457, 0.221, 0.0116, -0.1288, 0.0158, 0.0227, 0.0342, -0.1304, 0.0022, 0.1508, -0.0515, 0.023, -0.0545, 0.1054, 0.0665, -0.0237, -0.0485, 0.0647, -0.0723])"
      ]
     },
     "execution_count": 13,
     "metadata": {},
     "output_type": "execute_result"
    }
   ],
   "source": [
    "lrModel.coefficients"
   ]
  },
  {
   "cell_type": "code",
   "execution_count": 16,
   "metadata": {},
   "outputs": [
    {
     "data": {
      "text/plain": [
       "-0.3813486858945739"
      ]
     },
     "execution_count": 16,
     "metadata": {},
     "output_type": "execute_result"
    }
   ],
   "source": [
    "lrModel.intercept"
   ]
  },
  {
   "cell_type": "code",
   "execution_count": 17,
   "metadata": {},
   "outputs": [],
   "source": [
    "trainning_summary=lrModel.summary"
   ]
  },
  {
   "cell_type": "code",
   "execution_count": 18,
   "metadata": {},
   "outputs": [
    {
     "data": {
      "text/plain": [
       "0.6693601945096844"
      ]
     },
     "execution_count": 18,
     "metadata": {},
     "output_type": "execute_result"
    }
   ],
   "source": [
    "trainning_summary.rootMeanSquaredError"
   ]
  },
  {
   "cell_type": "code",
   "execution_count": 19,
   "metadata": {},
   "outputs": [],
   "source": [
    "all_data=spark.read.format('libsvm').load(\"file:///C:/Users/ckp43_000/Documents/a1a.t\")"
   ]
  },
  {
   "cell_type": "code",
   "execution_count": 23,
   "metadata": {},
   "outputs": [],
   "source": [
    "split_object=all_data.randomSplit([0.7,0.3])"
   ]
  },
  {
   "cell_type": "code",
   "execution_count": 24,
   "metadata": {},
   "outputs": [
    {
     "data": {
      "text/plain": [
       "[DataFrame[label: double, features: vector],\n",
       " DataFrame[label: double, features: vector]]"
      ]
     },
     "execution_count": 24,
     "metadata": {},
     "output_type": "execute_result"
    }
   ],
   "source": [
    "split_object"
   ]
  },
  {
   "cell_type": "code",
   "execution_count": 25,
   "metadata": {},
   "outputs": [],
   "source": [
    "train_data,test_data=all_data.randomSplit([0.7,0.3])"
   ]
  },
  {
   "cell_type": "code",
   "execution_count": 27,
   "metadata": {},
   "outputs": [
    {
     "name": "stdout",
     "output_type": "stream",
     "text": [
      "+-----+--------------------+\n",
      "|label|            features|\n",
      "+-----+--------------------+\n",
      "| -1.0|(123,[0,5,13,18,3...|\n",
      "| -1.0|(123,[0,5,13,18,3...|\n",
      "| -1.0|(123,[0,5,13,18,3...|\n",
      "| -1.0|(123,[0,5,13,18,3...|\n",
      "| -1.0|(123,[0,5,13,18,3...|\n",
      "+-----+--------------------+\n",
      "only showing top 5 rows\n",
      "\n"
     ]
    }
   ],
   "source": [
    "train_data.show(5)"
   ]
  },
  {
   "cell_type": "code",
   "execution_count": 28,
   "metadata": {},
   "outputs": [
    {
     "name": "stdout",
     "output_type": "stream",
     "text": [
      "+-----+--------------------+\n",
      "|label|            features|\n",
      "+-----+--------------------+\n",
      "| -1.0|(123,[0,5,13,18,3...|\n",
      "| -1.0|(123,[0,5,13,18,3...|\n",
      "| -1.0|(123,[0,5,13,18,3...|\n",
      "| -1.0|(123,[0,5,13,18,3...|\n",
      "| -1.0|(123,[0,5,13,18,3...|\n",
      "+-----+--------------------+\n",
      "only showing top 5 rows\n",
      "\n"
     ]
    }
   ],
   "source": [
    "test_data.show(5)"
   ]
  },
  {
   "cell_type": "code",
   "execution_count": 29,
   "metadata": {},
   "outputs": [
    {
     "name": "stdout",
     "output_type": "stream",
     "text": [
      "+-------+-------------------+\n",
      "|summary|              label|\n",
      "+-------+-------------------+\n",
      "|  count|              21706|\n",
      "|   mean|-0.5202248226296876|\n",
      "| stddev| 0.8540490252437056|\n",
      "|    min|               -1.0|\n",
      "|    max|                1.0|\n",
      "+-------+-------------------+\n",
      "\n"
     ]
    }
   ],
   "source": [
    "train_data.describe().show()"
   ]
  },
  {
   "cell_type": "code",
   "execution_count": 30,
   "metadata": {},
   "outputs": [
    {
     "name": "stdout",
     "output_type": "stream",
     "text": [
      "+-------+-------------------+\n",
      "|summary|              label|\n",
      "+-------+-------------------+\n",
      "|  count|               9250|\n",
      "|   mean|-0.5158918918918919|\n",
      "| stddev|  0.856700005949422|\n",
      "|    min|               -1.0|\n",
      "|    max|                1.0|\n",
      "+-------+-------------------+\n",
      "\n"
     ]
    }
   ],
   "source": [
    "test_data.describe().show()"
   ]
  },
  {
   "cell_type": "code",
   "execution_count": 31,
   "metadata": {},
   "outputs": [],
   "source": [
    "correct_model=lr.fit(train_data)"
   ]
  },
  {
   "cell_type": "code",
   "execution_count": 36,
   "metadata": {},
   "outputs": [],
   "source": [
    "test_result=correct_model.evaluate(test_data)"
   ]
  },
  {
   "cell_type": "code",
   "execution_count": 41,
   "metadata": {},
   "outputs": [
    {
     "name": "stdout",
     "output_type": "stream",
     "text": [
      "+--------------------+\n",
      "|           residuals|\n",
      "+--------------------+\n",
      "| -0.9155438292123197|\n",
      "| -1.1001796950130016|\n",
      "| -0.9688708981206352|\n",
      "| -0.5814139042295421|\n",
      "| -0.3403182258682921|\n",
      "|-0.27714419033172133|\n",
      "| -0.4507130982537564|\n",
      "|-0.20136215214274367|\n",
      "| -0.5186356411265838|\n",
      "|-0.28634686396756126|\n",
      "+--------------------+\n",
      "only showing top 10 rows\n",
      "\n"
     ]
    }
   ],
   "source": [
    "test_result.residuals.show(10)"
   ]
  },
  {
   "cell_type": "code",
   "execution_count": 44,
   "metadata": {},
   "outputs": [
    {
     "data": {
      "text/plain": [
       "0.6740407362716082"
      ]
     },
     "execution_count": 44,
     "metadata": {},
     "output_type": "execute_result"
    }
   ],
   "source": [
    "test_result.rootMeanSquaredError"
   ]
  },
  {
   "cell_type": "code",
   "execution_count": 45,
   "metadata": {},
   "outputs": [],
   "source": [
    "unlabeled_data=test_data.select('features')"
   ]
  },
  {
   "cell_type": "code",
   "execution_count": 46,
   "metadata": {},
   "outputs": [
    {
     "name": "stdout",
     "output_type": "stream",
     "text": [
      "+--------------------+\n",
      "|            features|\n",
      "+--------------------+\n",
      "|(123,[0,5,13,18,3...|\n",
      "|(123,[0,5,13,18,3...|\n",
      "|(123,[0,5,13,18,3...|\n",
      "|(123,[0,5,13,18,3...|\n",
      "|(123,[0,5,13,18,3...|\n",
      "|(123,[0,5,13,18,3...|\n",
      "|(123,[0,5,13,18,3...|\n",
      "|(123,[0,5,13,18,3...|\n",
      "|(123,[0,5,13,18,3...|\n",
      "|(123,[0,5,13,18,3...|\n",
      "|(123,[0,5,13,18,3...|\n",
      "|(123,[0,5,13,18,3...|\n",
      "|(123,[0,5,13,18,3...|\n",
      "|(123,[0,5,13,18,3...|\n",
      "|(123,[0,5,13,18,3...|\n",
      "|(123,[0,5,13,18,3...|\n",
      "|(123,[0,5,13,18,3...|\n",
      "|(123,[0,5,13,18,3...|\n",
      "|(123,[0,5,13,18,3...|\n",
      "|(123,[0,5,13,18,3...|\n",
      "+--------------------+\n",
      "only showing top 20 rows\n",
      "\n"
     ]
    }
   ],
   "source": [
    "unlabeled_data.show()"
   ]
  },
  {
   "cell_type": "code",
   "execution_count": 47,
   "metadata": {},
   "outputs": [],
   "source": [
    "predictions=correct_model.transform(unlabeled_data)"
   ]
  },
  {
   "cell_type": "code",
   "execution_count": 49,
   "metadata": {},
   "outputs": [
    {
     "name": "stdout",
     "output_type": "stream",
     "text": [
      "+--------------------+--------------------+\n",
      "|            features|          Prediction|\n",
      "+--------------------+--------------------+\n",
      "|(123,[0,5,13,18,3...|-0.08445617078768025|\n",
      "|(123,[0,5,13,18,3...| 0.10017969501300156|\n",
      "|(123,[0,5,13,18,3...|-0.03112910187936...|\n",
      "|(123,[0,5,13,18,3...|-0.41858609577045786|\n",
      "|(123,[0,5,13,18,3...| -0.6596817741317079|\n",
      "|(123,[0,5,13,18,3...| -0.7228558096682787|\n",
      "|(123,[0,5,13,18,3...| -0.5492869017462436|\n",
      "|(123,[0,5,13,18,3...| -0.7986378478572563|\n",
      "|(123,[0,5,13,18,3...| -0.4813643588734162|\n",
      "|(123,[0,5,13,18,3...| -0.7136531360324387|\n",
      "+--------------------+--------------------+\n",
      "only showing top 10 rows\n",
      "\n"
     ]
    }
   ],
   "source": [
    "predictions.show(10)"
   ]
  },
  {
   "cell_type": "code",
   "execution_count": null,
   "metadata": {},
   "outputs": [],
   "source": []
  }
 ],
 "metadata": {
  "kernelspec": {
   "display_name": "Python 3",
   "language": "python",
   "name": "python3"
  },
  "language_info": {
   "codemirror_mode": {
    "name": "ipython",
    "version": 3
   },
   "file_extension": ".py",
   "mimetype": "text/x-python",
   "name": "python",
   "nbconvert_exporter": "python",
   "pygments_lexer": "ipython3",
   "version": "3.7.4"
  }
 },
 "nbformat": 4,
 "nbformat_minor": 2
}
