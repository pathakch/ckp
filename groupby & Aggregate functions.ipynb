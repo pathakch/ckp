{
 "cells": [
  {
   "cell_type": "code",
   "execution_count": 57,
   "metadata": {},
   "outputs": [],
   "source": [
    "from pyspark.sql import SparkSession"
   ]
  },
  {
   "cell_type": "code",
   "execution_count": 58,
   "metadata": {},
   "outputs": [],
   "source": [
    "spark=SparkSession.builder.appName(\"Aggregate_functions\").getOrCreate()"
   ]
  },
  {
   "cell_type": "code",
   "execution_count": 59,
   "metadata": {},
   "outputs": [
    {
     "data": {
      "text/html": [
       "\n",
       "            <div>\n",
       "                <p><b>SparkSession - in-memory</b></p>\n",
       "                \n",
       "        <div>\n",
       "            <p><b>SparkContext</b></p>\n",
       "\n",
       "            <p><a href=\"http://cpc:4043\">Spark UI</a></p>\n",
       "\n",
       "            <dl>\n",
       "              <dt>Version</dt>\n",
       "                <dd><code>v3.0.0-preview2</code></dd>\n",
       "              <dt>Master</dt>\n",
       "                <dd><code>local[*]</code></dd>\n",
       "              <dt>AppName</dt>\n",
       "                <dd><code>Aggregate_functions</code></dd>\n",
       "            </dl>\n",
       "        </div>\n",
       "        \n",
       "            </div>\n",
       "        "
      ],
      "text/plain": [
       "<pyspark.sql.session.SparkSession at 0xe74e969088>"
      ]
     },
     "execution_count": 59,
     "metadata": {},
     "output_type": "execute_result"
    }
   ],
   "source": [
    "spark"
   ]
  },
  {
   "cell_type": "code",
   "execution_count": 52,
   "metadata": {},
   "outputs": [],
   "source": [
    "input_file_path=\"file:///C:/Users/ckp43_000/Documents/full_data.csv\""
   ]
  },
  {
   "cell_type": "code",
   "execution_count": 53,
   "metadata": {},
   "outputs": [],
   "source": [
    "df=spark.read.csv(input_file_path,inferSchema=True,header=True)"
   ]
  },
  {
   "cell_type": "code",
   "execution_count": 7,
   "metadata": {
    "collapsed": true
   },
   "outputs": [
    {
     "name": "stdout",
     "output_type": "stream",
     "text": [
      "root\n",
      " |-- date: string (nullable = true)\n",
      " |-- location: string (nullable = true)\n",
      " |-- new_cases: integer (nullable = true)\n",
      " |-- new_deaths: integer (nullable = true)\n",
      " |-- total_cases: integer (nullable = true)\n",
      " |-- total_deaths: integer (nullable = true)\n",
      "\n"
     ]
    }
   ],
   "source": [
    "df.printSchema()"
   ]
  },
  {
   "cell_type": "code",
   "execution_count": 8,
   "metadata": {
    "collapsed": true
   },
   "outputs": [
    {
     "name": "stdout",
     "output_type": "stream",
     "text": [
      "+----------+-----------+---------+----------+-----------+------------+\n",
      "|      date|   location|new_cases|new_deaths|total_cases|total_deaths|\n",
      "+----------+-----------+---------+----------+-----------+------------+\n",
      "|2019-12-31|Afghanistan|        0|         0|          0|           0|\n",
      "|2020-01-01|Afghanistan|        0|         0|          0|           0|\n",
      "|2020-01-02|Afghanistan|        0|         0|          0|           0|\n",
      "|2020-01-03|Afghanistan|        0|         0|          0|           0|\n",
      "|2020-01-04|Afghanistan|        0|         0|          0|           0|\n",
      "|2020-01-05|Afghanistan|        0|         0|          0|           0|\n",
      "|2020-01-06|Afghanistan|        0|         0|          0|           0|\n",
      "|2020-01-07|Afghanistan|        0|         0|          0|           0|\n",
      "|2020-01-08|Afghanistan|        0|         0|          0|           0|\n",
      "|2020-01-09|Afghanistan|        0|         0|          0|           0|\n",
      "+----------+-----------+---------+----------+-----------+------------+\n",
      "only showing top 10 rows\n",
      "\n"
     ]
    }
   ],
   "source": [
    "df.show(10)"
   ]
  },
  {
   "cell_type": "code",
   "execution_count": 14,
   "metadata": {
    "scrolled": true
   },
   "outputs": [
    {
     "data": {
      "text/plain": [
       "<pyspark.sql.group.GroupedData at 0xe750818a08>"
      ]
     },
     "execution_count": 14,
     "metadata": {},
     "output_type": "execute_result"
    }
   ],
   "source": [
    "df.groupBy('location')  # its an object located at given address in memory\n"
   ]
  },
  {
   "cell_type": "code",
   "execution_count": 17,
   "metadata": {},
   "outputs": [
    {
     "data": {
      "text/plain": [
       "13329"
      ]
     },
     "execution_count": 17,
     "metadata": {},
     "output_type": "execute_result"
    }
   ],
   "source": [
    "df.count()"
   ]
  },
  {
   "cell_type": "code",
   "execution_count": 21,
   "metadata": {
    "collapsed": true
   },
   "outputs": [
    {
     "name": "stdout",
     "output_type": "stream",
     "text": [
      "+-------------------+------------------+-------------------+------------------+------------------+\n",
      "|           location|    avg(new_cases)|    avg(new_deaths)|  avg(total_cases)| avg(total_deaths)|\n",
      "+-------------------+------------------+-------------------+------------------+------------------+\n",
      "|        Afghanistan|13.546296296296296| 0.4351851851851852|173.03703703703704| 5.342592592592593|\n",
      "|            Albania| 14.53061224489796| 0.5510204081632653|288.16326530612247|13.775510204081632|\n",
      "|            Algeria|  28.8141592920354| 3.7079646017699117|494.46902654867256| 64.64601769911505|\n",
      "|            Andorra| 16.65909090909091| 0.9090909090909091|414.20454545454544|17.022727272727273|\n",
      "|             Angola|0.6944444444444444|0.05555555555555555| 14.11111111111111|1.5555555555555556|\n",
      "|           Anguilla|0.0967741935483871|                0.0| 2.774193548387097|               0.0|\n",
      "|Antigua and Barbuda| 0.631578947368421|0.07894736842105263|14.342105263157896|1.0526315789473684|\n",
      "|          Argentina| 73.86274509803921|  3.627450980392157|1279.1568627450981| 52.19607843137255|\n",
      "|            Armenia| 16.01834862385321|0.25688073394495414| 293.6788990825688|3.6605504587155964|\n",
      "|              Aruba| 2.857142857142857|0.05714285714285714| 67.91428571428571|0.5714285714285714|\n",
      "+-------------------+------------------+-------------------+------------------+------------------+\n",
      "only showing top 10 rows\n",
      "\n"
     ]
    }
   ],
   "source": [
    "df.groupBy('location').mean().show(10)"
   ]
  },
  {
   "cell_type": "code",
   "execution_count": 23,
   "metadata": {
    "collapsed": true
   },
   "outputs": [
    {
     "name": "stdout",
     "output_type": "stream",
     "text": [
      "+-------------------+--------------+---------------+----------------+-----------------+\n",
      "|           location|max(new_cases)|max(new_deaths)|max(total_cases)|max(total_deaths)|\n",
      "+-------------------+--------------+---------------+----------------+-----------------+\n",
      "|        Afghanistan|           112|              4|            1463|               47|\n",
      "|            Albania|            34|              3|             712|               27|\n",
      "|            Algeria|           185|             42|            3256|              419|\n",
      "|            Andorra|            43|              4|             733|               40|\n",
      "|             Angola|             5|              2|              25|                2|\n",
      "|           Anguilla|             2|              0|               3|                0|\n",
      "|Antigua and Barbuda|             6|              2|              24|                3|\n",
      "|          Argentina|           344|             18|            3767|              185|\n",
      "|            Armenia|            92|              3|            1746|               28|\n",
      "|              Aruba|            22|              1|             100|                2|\n",
      "+-------------------+--------------+---------------+----------------+-----------------+\n",
      "only showing top 10 rows\n",
      "\n"
     ]
    }
   ],
   "source": [
    "df.groupBy('location').max().show(10)"
   ]
  },
  {
   "cell_type": "code",
   "execution_count": 25,
   "metadata": {
    "collapsed": true
   },
   "outputs": [
    {
     "name": "stdout",
     "output_type": "stream",
     "text": [
      "+-------------------+-----+\n",
      "|           location|count|\n",
      "+-------------------+-----+\n",
      "|        Afghanistan|  108|\n",
      "|            Albania|   49|\n",
      "|            Algeria|  113|\n",
      "|            Andorra|   44|\n",
      "|             Angola|   36|\n",
      "|           Anguilla|   31|\n",
      "|Antigua and Barbuda|   38|\n",
      "|          Argentina|   51|\n",
      "|            Armenia|  109|\n",
      "|              Aruba|   35|\n",
      "|          Australia|  118|\n",
      "|            Austria|  118|\n",
      "|         Azerbaijan|  111|\n",
      "|            Bahamas|   40|\n",
      "|            Bahrain|  117|\n",
      "|         Bangladesh|   43|\n",
      "|           Barbados|   40|\n",
      "|            Belarus|  110|\n",
      "|            Belgium|  118|\n",
      "|             Belize|   34|\n",
      "+-------------------+-----+\n",
      "only showing top 20 rows\n",
      "\n"
     ]
    }
   ],
   "source": [
    "df.groupBy('location').count().show() #showing number of rows "
   ]
  },
  {
   "cell_type": "code",
   "execution_count": 26,
   "metadata": {
    "collapsed": true
   },
   "outputs": [
    {
     "name": "stdout",
     "output_type": "stream",
     "text": [
      "+-------------------+--------------+---------------+----------------+-----------------+\n",
      "|           location|min(new_cases)|min(new_deaths)|min(total_cases)|min(total_deaths)|\n",
      "+-------------------+--------------+---------------+----------------+-----------------+\n",
      "|        Afghanistan|             0|              0|               0|                0|\n",
      "|            Albania|             0|              0|               2|                0|\n",
      "|            Algeria|             0|              0|               0|                0|\n",
      "|            Andorra|             0|              0|               1|                0|\n",
      "|             Angola|             0|              0|               2|                0|\n",
      "|           Anguilla|             0|              0|               2|                0|\n",
      "|Antigua and Barbuda|             0|              0|               1|                0|\n",
      "|          Argentina|             0|              0|               1|                0|\n",
      "|            Armenia|             0|              0|               0|                0|\n",
      "|              Aruba|             0|              0|               2|                0|\n",
      "|          Australia|             0|              0|               0|                0|\n",
      "|            Austria|             0|              0|               0|                0|\n",
      "|         Azerbaijan|             0|              0|               0|                0|\n",
      "|            Bahamas|             0|              0|               1|                0|\n",
      "|            Bahrain|             0|              0|               0|                0|\n",
      "|         Bangladesh|             0|              0|               3|                0|\n",
      "|           Barbados|             0|              0|               1|                0|\n",
      "|            Belarus|             0|              0|               0|                0|\n",
      "|            Belgium|             0|              0|               0|                0|\n",
      "|             Belize|             0|              0|               1|                0|\n",
      "+-------------------+--------------+---------------+----------------+-----------------+\n",
      "only showing top 20 rows\n",
      "\n"
     ]
    }
   ],
   "source": [
    "df.groupBy('location').min().show()"
   ]
  },
  {
   "cell_type": "code",
   "execution_count": null,
   "metadata": {},
   "outputs": [],
   "source": []
  },
  {
   "cell_type": "code",
   "execution_count": 27,
   "metadata": {
    "collapsed": true
   },
   "outputs": [
    {
     "name": "stdout",
     "output_type": "stream",
     "text": [
      "+--------------+\n",
      "|sum(new_cases)|\n",
      "+--------------+\n",
      "|       5689424|\n",
      "+--------------+\n",
      "\n"
     ]
    }
   ],
   "source": [
    "df.agg({'new_cases':'sum'}).show() showing   ## sum of all new cases in this dataframe."
   ]
  },
  {
   "cell_type": "code",
   "execution_count": 33,
   "metadata": {
    "collapsed": true
   },
   "outputs": [
    {
     "name": "stdout",
     "output_type": "stream",
     "text": [
      "+--------------+\n",
      "|max(new_cases)|\n",
      "+--------------+\n",
      "|         99968|\n",
      "+--------------+\n",
      "\n"
     ]
    }
   ],
   "source": [
    "df.agg({'new_cases':'max'}).show()"
   ]
  },
  {
   "cell_type": "code",
   "execution_count": 34,
   "metadata": {},
   "outputs": [],
   "source": [
    "group_data=df.groupBy('location')"
   ]
  },
  {
   "cell_type": "code",
   "execution_count": 35,
   "metadata": {},
   "outputs": [
    {
     "data": {
      "text/plain": [
       "<pyspark.sql.group.GroupedData at 0xe750dc3a48>"
      ]
     },
     "execution_count": 35,
     "metadata": {},
     "output_type": "execute_result"
    }
   ],
   "source": [
    "group_data"
   ]
  },
  {
   "cell_type": "code",
   "execution_count": 39,
   "metadata": {},
   "outputs": [
    {
     "data": {
      "text/plain": [
       "pyspark.sql.group.GroupedData"
      ]
     },
     "execution_count": 39,
     "metadata": {},
     "output_type": "execute_result"
    }
   ],
   "source": [
    "type(group_data)"
   ]
  },
  {
   "cell_type": "code",
   "execution_count": 40,
   "metadata": {},
   "outputs": [
    {
     "ename": "AssertionError",
     "evalue": "all exprs should be Column",
     "output_type": "error",
     "traceback": [
      "\u001b[1;31m---------------------------------------------------------------------------\u001b[0m",
      "\u001b[1;31mAssertionError\u001b[0m                            Traceback (most recent call last)",
      "\u001b[1;32m<ipython-input-40-66cb7eb97063>\u001b[0m in \u001b[0;36m<module>\u001b[1;34m\u001b[0m\n\u001b[1;32m----> 1\u001b[1;33m \u001b[0mgroup_data\u001b[0m\u001b[1;33m.\u001b[0m\u001b[0magg\u001b[0m\u001b[1;33m(\u001b[0m\u001b[1;33m{\u001b[0m\u001b[1;34m'new_cases'\u001b[0m\u001b[1;33m,\u001b[0m\u001b[1;34m'max'\u001b[0m\u001b[1;33m}\u001b[0m\u001b[1;33m)\u001b[0m\u001b[1;33m.\u001b[0m\u001b[0mshow\u001b[0m\u001b[1;33m(\u001b[0m\u001b[1;33m)\u001b[0m\u001b[1;33m\u001b[0m\u001b[1;33m\u001b[0m\u001b[0m\n\u001b[0m",
      "\u001b[1;32mC:\\spark\\spark-3.0.0-preview2-bin-hadoop2.7\\python\\pyspark\\sql\\group.py\u001b[0m in \u001b[0;36magg\u001b[1;34m(self, *exprs)\u001b[0m\n\u001b[0;32m    110\u001b[0m         \u001b[1;32melse\u001b[0m\u001b[1;33m:\u001b[0m\u001b[1;33m\u001b[0m\u001b[1;33m\u001b[0m\u001b[0m\n\u001b[0;32m    111\u001b[0m             \u001b[1;31m# Columns\u001b[0m\u001b[1;33m\u001b[0m\u001b[1;33m\u001b[0m\u001b[1;33m\u001b[0m\u001b[0m\n\u001b[1;32m--> 112\u001b[1;33m             \u001b[1;32massert\u001b[0m \u001b[0mall\u001b[0m\u001b[1;33m(\u001b[0m\u001b[0misinstance\u001b[0m\u001b[1;33m(\u001b[0m\u001b[0mc\u001b[0m\u001b[1;33m,\u001b[0m \u001b[0mColumn\u001b[0m\u001b[1;33m)\u001b[0m \u001b[1;32mfor\u001b[0m \u001b[0mc\u001b[0m \u001b[1;32min\u001b[0m \u001b[0mexprs\u001b[0m\u001b[1;33m)\u001b[0m\u001b[1;33m,\u001b[0m \u001b[1;34m\"all exprs should be Column\"\u001b[0m\u001b[1;33m\u001b[0m\u001b[1;33m\u001b[0m\u001b[0m\n\u001b[0m\u001b[0;32m    113\u001b[0m             jdf = self._jgd.agg(exprs[0]._jc,\n\u001b[0;32m    114\u001b[0m                                 _to_seq(self.sql_ctx._sc, [c._jc for c in exprs[1:]]))\n",
      "\u001b[1;31mAssertionError\u001b[0m: all exprs should be Column"
     ]
    }
   ],
   "source": [
    "group_data.agg({'new_cases','max'}).show()"
   ]
  },
  {
   "cell_type": "markdown",
   "metadata": {},
   "source": [
    "## importing functions from Spark"
   ]
  },
  {
   "cell_type": "code",
   "execution_count": 43,
   "metadata": {},
   "outputs": [],
   "source": [
    "from pyspark.sql.functions import countDistinct,avg,stddev"
   ]
  },
  {
   "cell_type": "code",
   "execution_count": 46,
   "metadata": {},
   "outputs": [
    {
     "name": "stdout",
     "output_type": "stream",
     "text": [
      "+------------------------+\n",
      "|count(DISTINCT location)|\n",
      "+------------------------+\n",
      "|                     208|\n",
      "+------------------------+\n",
      "\n"
     ]
    }
   ],
   "source": [
    "df.select(countDistinct('location')).show()"
   ]
  },
  {
   "cell_type": "code",
   "execution_count": 47,
   "metadata": {},
   "outputs": [
    {
     "name": "stdout",
     "output_type": "stream",
     "text": [
      "+------------------+\n",
      "|    avg(new_cases)|\n",
      "+------------------+\n",
      "|426.84552479555856|\n",
      "+------------------+\n",
      "\n"
     ]
    }
   ],
   "source": [
    "df.select(avg('new_cases')).show()"
   ]
  },
  {
   "cell_type": "code",
   "execution_count": 48,
   "metadata": {},
   "outputs": [
    {
     "name": "stdout",
     "output_type": "stream",
     "text": [
      "+----------------------+\n",
      "|stddev_samp(new_cases)|\n",
      "+----------------------+\n",
      "|     4117.327570014036|\n",
      "+----------------------+\n",
      "\n"
     ]
    }
   ],
   "source": [
    "df.select(stddev('new_cases')).show()"
   ]
  },
  {
   "cell_type": "markdown",
   "metadata": {},
   "source": [
    "## putting alias "
   ]
  },
  {
   "cell_type": "code",
   "execution_count": 50,
   "metadata": {
    "scrolled": true
   },
   "outputs": [
    {
     "name": "stdout",
     "output_type": "stream",
     "text": [
      "+----------------------------+\n",
      "|New Cases standard Deviation|\n",
      "+----------------------------+\n",
      "|           4117.327570014036|\n",
      "+----------------------------+\n",
      "\n"
     ]
    }
   ],
   "source": [
    "df.select(stddev('new_cases').alias('New Cases standard Deviation')).show()"
   ]
  },
  {
   "cell_type": "code",
   "execution_count": 54,
   "metadata": {},
   "outputs": [
    {
     "name": "stdout",
     "output_type": "stream",
     "text": [
      "+----------+-----------+---------+----------+-----------+------------+\n",
      "|      date|   location|new_cases|new_deaths|total_cases|total_deaths|\n",
      "+----------+-----------+---------+----------+-----------+------------+\n",
      "|2019-12-31|Afghanistan|        0|         0|          0|           0|\n",
      "|2020-01-01|Afghanistan|        0|         0|          0|           0|\n",
      "|2020-01-02|Afghanistan|        0|         0|          0|           0|\n",
      "|2020-01-03|Afghanistan|        0|         0|          0|           0|\n",
      "|2020-01-04|Afghanistan|        0|         0|          0|           0|\n",
      "|2020-01-05|Afghanistan|        0|         0|          0|           0|\n",
      "|2020-01-06|Afghanistan|        0|         0|          0|           0|\n",
      "|2020-01-07|Afghanistan|        0|         0|          0|           0|\n",
      "|2020-01-08|Afghanistan|        0|         0|          0|           0|\n",
      "|2020-01-09|Afghanistan|        0|         0|          0|           0|\n",
      "+----------+-----------+---------+----------+-----------+------------+\n",
      "only showing top 10 rows\n",
      "\n"
     ]
    }
   ],
   "source": [
    "df.show(10)"
   ]
  },
  {
   "cell_type": "code",
   "execution_count": 55,
   "metadata": {},
   "outputs": [
    {
     "name": "stdout",
     "output_type": "stream",
     "text": [
      "+----------+-------------+---------+----------+-----------+------------+\n",
      "|      date|     location|new_cases|new_deaths|total_cases|total_deaths|\n",
      "+----------+-------------+---------+----------+-----------+------------+\n",
      "|2020-03-10|International|       -9|         1|        696|           7|\n",
      "|2019-12-31|  Afghanistan|        0|         0|          0|           0|\n",
      "|2020-01-02|  Afghanistan|        0|         0|          0|           0|\n",
      "|2020-01-01|  Afghanistan|        0|         0|          0|           0|\n",
      "|2020-01-06|  Afghanistan|        0|         0|          0|           0|\n",
      "|2020-01-03|  Afghanistan|        0|         0|          0|           0|\n",
      "|2020-01-04|  Afghanistan|        0|         0|          0|           0|\n",
      "|2020-01-05|  Afghanistan|        0|         0|          0|           0|\n",
      "|2020-01-14|  Afghanistan|        0|         0|          0|           0|\n",
      "|2020-01-07|  Afghanistan|        0|         0|          0|           0|\n",
      "|2020-01-08|  Afghanistan|        0|         0|          0|           0|\n",
      "|2020-01-09|  Afghanistan|        0|         0|          0|           0|\n",
      "|2020-01-10|  Afghanistan|        0|         0|          0|           0|\n",
      "|2020-01-11|  Afghanistan|        0|         0|          0|           0|\n",
      "|2020-01-12|  Afghanistan|        0|         0|          0|           0|\n",
      "|2020-01-13|  Afghanistan|        0|         0|          0|           0|\n",
      "|2020-01-15|  Afghanistan|        0|         0|          0|           0|\n",
      "|2020-01-16|  Afghanistan|        0|         0|          0|           0|\n",
      "|2020-01-17|  Afghanistan|        0|         0|          0|           0|\n",
      "|2020-01-18|  Afghanistan|        0|         0|          0|           0|\n",
      "+----------+-------------+---------+----------+-----------+------------+\n",
      "only showing top 20 rows\n",
      "\n"
     ]
    }
   ],
   "source": [
    "df.orderBy('new_cases').show()"
   ]
  },
  {
   "cell_type": "markdown",
   "metadata": {},
   "source": [
    "## order by descending"
   ]
  },
  {
   "cell_type": "code",
   "execution_count": 56,
   "metadata": {},
   "outputs": [
    {
     "name": "stdout",
     "output_type": "stream",
     "text": [
      "+----------+--------+---------+----------+-----------+------------+\n",
      "|      date|location|new_cases|new_deaths|total_cases|total_deaths|\n",
      "+----------+--------+---------+----------+-----------+------------+\n",
      "|2020-04-26|   World|    99968|      5929|    2844712|      201315|\n",
      "|2020-04-11|   World|    89341|      7049|    1653160|      102088|\n",
      "|2020-04-22|   World|    87387|      6935|    2520435|      176786|\n",
      "|2020-04-10|   World|    87027|      7223|    1563819|       95039|\n",
      "|2020-04-05|   World|    86484|      6093|    1174306|       64273|\n",
      "|2020-04-09|   World|    84911|      6340|    1476792|       87816|\n",
      "|2020-04-17|   World|    84335|      8507|    2114209|      144827|\n",
      "|2020-04-19|   World|    84112|      6421|    2281632|      159511|\n",
      "|2020-04-18|   World|    83311|      8263|    2197520|      153090|\n",
      "|2020-04-04|   World|    81759|      6603|    1087822|       58180|\n",
      "|2020-04-12|   World|    81708|      6104|    1734868|      108192|\n",
      "|2020-04-16|   World|    81011|     10345|    2029874|      136320|\n",
      "|2020-04-24|   World|    80073|      7428|    2668137|      190236|\n",
      "|2020-04-03|   World|    77572|      4693|    1006063|       51577|\n",
      "|2020-04-21|   World|    77274|      5195|    2433048|      169851|\n",
      "|2020-04-02|   World|    76904|      4980|     928491|       46884|\n",
      "|2020-04-25|   World|    76607|      5150|    2744744|      195386|\n",
      "|2020-04-15|   World|    75224|      7118|    1948863|      125975|\n",
      "|2020-04-08|   World|    74893|      7411|    1391881|       81476|\n",
      "|2020-04-01|   World|    74400|      4628|     851587|       41904|\n",
      "+----------+--------+---------+----------+-----------+------------+\n",
      "only showing top 20 rows\n",
      "\n"
     ]
    }
   ],
   "source": [
    "df.orderBy(df['new_cases'].desc()).show()"
   ]
  },
  {
   "cell_type": "code",
   "execution_count": null,
   "metadata": {},
   "outputs": [],
   "source": []
  },
  {
   "cell_type": "code",
   "execution_count": null,
   "metadata": {},
   "outputs": [],
   "source": []
  },
  {
   "cell_type": "code",
   "execution_count": null,
   "metadata": {},
   "outputs": [],
   "source": []
  }
 ],
 "metadata": {
  "kernelspec": {
   "display_name": "Python 3",
   "language": "python",
   "name": "python3"
  },
  "language_info": {
   "codemirror_mode": {
    "name": "ipython",
    "version": 3
   },
   "file_extension": ".py",
   "mimetype": "text/x-python",
   "name": "python",
   "nbconvert_exporter": "python",
   "pygments_lexer": "ipython3",
   "version": "3.7.4"
  }
 },
 "nbformat": 4,
 "nbformat_minor": 2
}
