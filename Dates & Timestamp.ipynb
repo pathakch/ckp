{
 "cells": [
  {
   "cell_type": "code",
   "execution_count": 1,
   "metadata": {},
   "outputs": [],
   "source": [
    "from pyspark.sql import SparkSession"
   ]
  },
  {
   "cell_type": "code",
   "execution_count": 2,
   "metadata": {},
   "outputs": [],
   "source": [
    "spark=SparkSession.builder.appName('Dates').getOrCreate()"
   ]
  },
  {
   "cell_type": "code",
   "execution_count": 3,
   "metadata": {
    "scrolled": true
   },
   "outputs": [
    {
     "data": {
      "text/html": [
       "\n",
       "            <div>\n",
       "                <p><b>SparkSession - in-memory</b></p>\n",
       "                \n",
       "        <div>\n",
       "            <p><b>SparkContext</b></p>\n",
       "\n",
       "            <p><a href=\"http://cpc:4045\">Spark UI</a></p>\n",
       "\n",
       "            <dl>\n",
       "              <dt>Version</dt>\n",
       "                <dd><code>v3.0.0-preview2</code></dd>\n",
       "              <dt>Master</dt>\n",
       "                <dd><code>local[*]</code></dd>\n",
       "              <dt>AppName</dt>\n",
       "                <dd><code>Dates</code></dd>\n",
       "            </dl>\n",
       "        </div>\n",
       "        \n",
       "            </div>\n",
       "        "
      ],
      "text/plain": [
       "<pyspark.sql.session.SparkSession at 0x91d45d0548>"
      ]
     },
     "execution_count": 3,
     "metadata": {},
     "output_type": "execute_result"
    }
   ],
   "source": [
    "spark"
   ]
  },
  {
   "cell_type": "code",
   "execution_count": 3,
   "metadata": {},
   "outputs": [],
   "source": [
    "input_file_path= "
   ]
  },
  {
   "cell_type": "code",
   "execution_count": 4,
   "metadata": {},
   "outputs": [],
   "source": [
    "df=spark.read.csv(input_file_path,inferSchema=True,header=True)"
   ]
  },
  {
   "cell_type": "code",
   "execution_count": 6,
   "metadata": {},
   "outputs": [
    {
     "data": {
      "text/plain": [
       "[Row(Date='2014-09-29', Open=100.589996, High=100.690002, Low=98.040001, Close=99.620003, Adj Close=93.51429, Volume=142718700)]"
      ]
     },
     "execution_count": 6,
     "metadata": {},
     "output_type": "execute_result"
    }
   ],
   "source": [
    "(df.head(1))"
   ]
  },
  {
   "cell_type": "code",
   "execution_count": 16,
   "metadata": {},
   "outputs": [
    {
     "name": "stdout",
     "output_type": "stream",
     "text": [
      "+----------+----------+----------+----------+----------+----------+---------+\n",
      "|      Date|      Open|      High|       Low|     Close| Adj Close|   Volume|\n",
      "+----------+----------+----------+----------+----------+----------+---------+\n",
      "|2014-09-29|100.589996|100.690002| 98.040001| 99.620003|  93.51429|142718700|\n",
      "|2014-10-06| 99.949997|102.379997| 98.309998|100.730003| 94.556244|280258200|\n",
      "|2014-10-13|101.330002|101.779999|     95.18| 97.669998| 91.683792|358539800|\n",
      "|2014-10-20|     98.32|105.489998| 98.220001|105.220001| 98.771042|358532900|\n",
      "|2014-10-27|104.849998|108.040001|104.699997|     108.0|101.380676|220230600|\n",
      "|2014-11-03|108.220001|110.300003|107.720001|109.010002|102.328766|199952900|\n",
      "|2014-11-10|109.019997|114.190002|108.400002|    114.18|107.646675|205166700|\n",
      "|2014-11-17|114.269997|    117.57|113.300003|116.470001|109.805626|233414700|\n",
      "|2014-11-24|116.849998|    119.75|116.620003|    118.93|112.124863|181873900|\n",
      "|2014-12-01|118.809998|    119.25|111.269997|     115.0|108.419746|266589700|\n",
      "+----------+----------+----------+----------+----------+----------+---------+\n",
      "only showing top 10 rows\n",
      "\n"
     ]
    }
   ],
   "source": [
    "df.show(10)"
   ]
  },
  {
   "cell_type": "code",
   "execution_count": 18,
   "metadata": {},
   "outputs": [
    {
     "name": "stdout",
     "output_type": "stream",
     "text": [
      "+----------+----------+\n",
      "|      Date|      Open|\n",
      "+----------+----------+\n",
      "|2014-09-29|100.589996|\n",
      "|2014-10-06| 99.949997|\n",
      "|2014-10-13|101.330002|\n",
      "|2014-10-20|     98.32|\n",
      "|2014-10-27|104.849998|\n",
      "+----------+----------+\n",
      "only showing top 5 rows\n",
      "\n"
     ]
    }
   ],
   "source": [
    "df.select(['Date','Open']).show(5)"
   ]
  },
  {
   "cell_type": "code",
   "execution_count": 9,
   "metadata": {},
   "outputs": [],
   "source": [
    "from pyspark.sql.functions import (dayofmonth,\n",
    "                                   dayofyear,\n",
    "                                   month,\n",
    "                                   year,\n",
    "                                   hour,\n",
    "                                  weekofyear,\n",
    "                                  format_number,\n",
    "                                  date_format)"
   ]
  },
  {
   "cell_type": "code",
   "execution_count": 24,
   "metadata": {},
   "outputs": [
    {
     "name": "stdout",
     "output_type": "stream",
     "text": [
      "+-----------+\n",
      "|month(Date)|\n",
      "+-----------+\n",
      "|          9|\n",
      "|         10|\n",
      "|         10|\n",
      "|         10|\n",
      "|         10|\n",
      "+-----------+\n",
      "only showing top 5 rows\n",
      "\n"
     ]
    }
   ],
   "source": [
    "df.select(month(df['Date'])).show(5)"
   ]
  },
  {
   "cell_type": "code",
   "execution_count": 25,
   "metadata": {},
   "outputs": [
    {
     "name": "stdout",
     "output_type": "stream",
     "text": [
      "+----------+\n",
      "|year(Date)|\n",
      "+----------+\n",
      "|      2014|\n",
      "|      2014|\n",
      "|      2014|\n",
      "|      2014|\n",
      "|      2014|\n",
      "+----------+\n",
      "only showing top 5 rows\n",
      "\n"
     ]
    }
   ],
   "source": [
    "df.select(year(df['Date'])).show(10)\n",
    "                                "
   ]
  },
  {
   "cell_type": "code",
   "execution_count": 27,
   "metadata": {},
   "outputs": [
    {
     "name": "stdout",
     "output_type": "stream",
     "text": [
      "+----------+\n",
      "|hour(Date)|\n",
      "+----------+\n",
      "|         0|\n",
      "|         0|\n",
      "|         0|\n",
      "|         0|\n",
      "|         0|\n",
      "+----------+\n",
      "only showing top 5 rows\n",
      "\n"
     ]
    }
   ],
   "source": [
    "df.select(hour(df['Date'])).show(5)"
   ]
  },
  {
   "cell_type": "code",
   "execution_count": 10,
   "metadata": {},
   "outputs": [
    {
     "name": "stdout",
     "output_type": "stream",
     "text": [
      "+----------+----------+----------+----------+----------+----------+---------+----+\n",
      "|      Date|      Open|      High|       Low|     Close| Adj Close|   Volume|year|\n",
      "+----------+----------+----------+----------+----------+----------+---------+----+\n",
      "|2014-09-29|100.589996|100.690002| 98.040001| 99.620003|  93.51429|142718700|2014|\n",
      "|2014-10-06| 99.949997|102.379997| 98.309998|100.730003| 94.556244|280258200|2014|\n",
      "|2014-10-13|101.330002|101.779999|     95.18| 97.669998| 91.683792|358539800|2014|\n",
      "|2014-10-20|     98.32|105.489998| 98.220001|105.220001| 98.771042|358532900|2014|\n",
      "|2014-10-27|104.849998|108.040001|104.699997|     108.0|101.380676|220230600|2014|\n",
      "+----------+----------+----------+----------+----------+----------+---------+----+\n",
      "only showing top 5 rows\n",
      "\n"
     ]
    }
   ],
   "source": [
    "df.withColumn('year',year(df['Date'])).show(5) "
   ]
  },
  {
   "cell_type": "code",
   "execution_count": 11,
   "metadata": {},
   "outputs": [],
   "source": [
    "newdf=df.withColumn('year',year(df['Date']))"
   ]
  },
  {
   "cell_type": "code",
   "execution_count": 12,
   "metadata": {},
   "outputs": [
    {
     "name": "stdout",
     "output_type": "stream",
     "text": [
      "+----------+----------+----------+----------+----------+----------+---------+----+\n",
      "|      Date|      Open|      High|       Low|     Close| Adj Close|   Volume|year|\n",
      "+----------+----------+----------+----------+----------+----------+---------+----+\n",
      "|2014-09-29|100.589996|100.690002| 98.040001| 99.620003|  93.51429|142718700|2014|\n",
      "|2014-10-06| 99.949997|102.379997| 98.309998|100.730003| 94.556244|280258200|2014|\n",
      "|2014-10-13|101.330002|101.779999|     95.18| 97.669998| 91.683792|358539800|2014|\n",
      "|2014-10-20|     98.32|105.489998| 98.220001|105.220001| 98.771042|358532900|2014|\n",
      "|2014-10-27|104.849998|108.040001|104.699997|     108.0|101.380676|220230600|2014|\n",
      "+----------+----------+----------+----------+----------+----------+---------+----+\n",
      "only showing top 5 rows\n",
      "\n"
     ]
    }
   ],
   "source": [
    "newdf.show(5)"
   ]
  },
  {
   "cell_type": "code",
   "execution_count": 13,
   "metadata": {
    "scrolled": true
   },
   "outputs": [
    {
     "name": "stdout",
     "output_type": "stream",
     "text": [
      "+----+------------------+------------------+------------------+------------------+------------------+--------------------+---------+\n",
      "|year|         avg(Open)|         avg(High)|          avg(Low)|        avg(Close)|    avg(Adj Close)|         avg(Volume)|avg(year)|\n",
      "+----+------------------+------------------+------------------+------------------+------------------+--------------------+---------+\n",
      "|2014|108.78285600000001|        111.201428|106.19214299999999|109.26142928571427|102.82919314285714| 2.362491142857143E8|   2014.0|\n",
      "|2015|120.08519211538461|122.94884678846155|116.61307680769227|119.95576888461537|114.07129642307692| 2.501912096153846E8|   2015.0|\n",
      "|2016|104.27115398076923| 106.7555771730769|102.01403884615381|104.49788426923075|101.42530011538464| 1.861644846153846E8|   2016.0|\n",
      "|2017|149.64134611538464|152.65788515384608|147.60980874999998|150.57750011538465|148.90949628846153|1.3096222307692307E8|   2017.0|\n",
      "|2018|171.75464521428572|176.09071457142858|167.68714249999996|171.54357157142854|171.24802842857142|1.6707625035714287E8|   2018.0|\n",
      "+----+------------------+------------------+------------------+------------------+------------------+--------------------+---------+\n",
      "\n"
     ]
    }
   ],
   "source": [
    "newdf.groupBy('year').mean().show()"
   ]
  },
  {
   "cell_type": "code",
   "execution_count": 18,
   "metadata": {
    "scrolled": true
   },
   "outputs": [
    {
     "name": "stdout",
     "output_type": "stream",
     "text": [
      "+----+------------------+\n",
      "|year|        avg(Close)|\n",
      "+----+------------------+\n",
      "|2014|109.26142928571427|\n",
      "|2015|119.95576888461537|\n",
      "|2016|104.49788426923075|\n",
      "|2017|150.57750011538465|\n",
      "|2018|171.54357157142854|\n",
      "+----+------------------+\n",
      "\n"
     ]
    }
   ],
   "source": [
    "newdf.groupBy('year').mean().select(['year','avg(Close)']).show()"
   ]
  },
  {
   "cell_type": "code",
   "execution_count": 19,
   "metadata": {},
   "outputs": [],
   "source": [
    "result=newdf.groupBy('year').mean().select(['year','avg(close)'])"
   ]
  },
  {
   "cell_type": "code",
   "execution_count": 20,
   "metadata": {},
   "outputs": [
    {
     "name": "stdout",
     "output_type": "stream",
     "text": [
      "+----+------------------+\n",
      "|year|        avg(close)|\n",
      "+----+------------------+\n",
      "|2014|109.26142928571427|\n",
      "|2015|119.95576888461537|\n",
      "|2016|104.49788426923075|\n",
      "|2017|150.57750011538465|\n",
      "|2018|171.54357157142854|\n",
      "+----+------------------+\n",
      "\n"
     ]
    }
   ],
   "source": [
    "result.show()"
   ]
  },
  {
   "cell_type": "code",
   "execution_count": 21,
   "metadata": {},
   "outputs": [
    {
     "name": "stdout",
     "output_type": "stream",
     "text": [
      "+----+------------------+\n",
      "|year| avg closing price|\n",
      "+----+------------------+\n",
      "|2014|109.26142928571427|\n",
      "|2015|119.95576888461537|\n",
      "|2016|104.49788426923075|\n",
      "|2017|150.57750011538465|\n",
      "|2018|171.54357157142854|\n",
      "+----+------------------+\n",
      "\n"
     ]
    }
   ],
   "source": [
    "result.withColumnRenamed('avg(close)','avg closing price').show()"
   ]
  },
  {
   "cell_type": "code",
   "execution_count": 22,
   "metadata": {},
   "outputs": [],
   "source": [
    "new_result=result.withColumnRenamed('avg(close)','avg closing price')"
   ]
  },
  {
   "cell_type": "code",
   "execution_count": 24,
   "metadata": {},
   "outputs": [
    {
     "name": "stdout",
     "output_type": "stream",
     "text": [
      "+----+------------------+\n",
      "|year| avg closing price|\n",
      "+----+------------------+\n",
      "|2014|109.26142928571427|\n",
      "|2015|119.95576888461537|\n",
      "|2016|104.49788426923075|\n",
      "|2017|150.57750011538465|\n",
      "|2018|171.54357157142854|\n",
      "+----+------------------+\n",
      "\n"
     ]
    }
   ],
   "source": [
    "new_result.show()"
   ]
  },
  {
   "cell_type": "code",
   "execution_count": 26,
   "metadata": {},
   "outputs": [
    {
     "name": "stdout",
     "output_type": "stream",
     "text": [
      "+----+-----------------------------------+\n",
      "|year|format_number(avg closing price, 2)|\n",
      "+----+-----------------------------------+\n",
      "|2014|                             109.26|\n",
      "|2015|                             119.96|\n",
      "|2016|                             104.50|\n",
      "|2017|                             150.58|\n",
      "|2018|                             171.54|\n",
      "+----+-----------------------------------+\n",
      "\n"
     ]
    }
   ],
   "source": [
    "new_result.select('year',format_number('avg closing price',2)).show()"
   ]
  },
  {
   "cell_type": "code",
   "execution_count": 27,
   "metadata": {},
   "outputs": [
    {
     "name": "stdout",
     "output_type": "stream",
     "text": [
      "+----+---------+\n",
      "|year|avg close|\n",
      "+----+---------+\n",
      "|2014|   109.26|\n",
      "|2015|   119.96|\n",
      "|2016|   104.50|\n",
      "|2017|   150.58|\n",
      "|2018|   171.54|\n",
      "+----+---------+\n",
      "\n"
     ]
    }
   ],
   "source": [
    "new_result.select('year',format_number('avg closing price',2).alias('avg close')).show()"
   ]
  },
  {
   "cell_type": "code",
   "execution_count": null,
   "metadata": {},
   "outputs": [],
   "source": []
  },
  {
   "cell_type": "code",
   "execution_count": null,
   "metadata": {},
   "outputs": [],
   "source": []
  },
  {
   "cell_type": "code",
   "execution_count": 39,
   "metadata": {},
   "outputs": [
    {
     "name": "stdout",
     "output_type": "stream",
     "text": [
      "+----+-----+\n",
      "|year|count|\n",
      "+----+-----+\n",
      "|2014|   14|\n",
      "|2015|   52|\n",
      "|2016|   52|\n",
      "|2017|   52|\n",
      "|2018|   14|\n",
      "+----+-----+\n",
      "\n"
     ]
    }
   ],
   "source": [
    "newdf.groupBy('year').count().show()"
   ]
  },
  {
   "cell_type": "code",
   "execution_count": null,
   "metadata": {},
   "outputs": [],
   "source": []
  }
 ],
 "metadata": {
  "kernelspec": {
   "display_name": "Python 3",
   "language": "python",
   "name": "python3"
  },
  "language_info": {
   "codemirror_mode": {
    "name": "ipython",
    "version": 3
   },
   "file_extension": ".py",
   "mimetype": "text/x-python",
   "name": "python",
   "nbconvert_exporter": "python",
   "pygments_lexer": "ipython3",
   "version": "3.7.4"
  }
 },
 "nbformat": 4,
 "nbformat_minor": 2
}
