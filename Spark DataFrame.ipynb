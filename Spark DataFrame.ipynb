{
 "cells": [
  {
   "cell_type": "code",
   "execution_count": 3,
   "metadata": {},
   "outputs": [],
   "source": [
    "from pyspark.sql import SparkSession"
   ]
  },
  {
   "cell_type": "code",
   "execution_count": 7,
   "metadata": {},
   "outputs": [],
   "source": [
    "spark=SparkSession.builder.appName(\"Basics\").getOrCreate()"
   ]
  },
  {
   "cell_type": "code",
   "execution_count": 9,
   "metadata": {},
   "outputs": [],
   "source": [
    "input_file_path=\"file:///C:/Users/ckp43_000/Documents/generic-food.csv\""
   ]
  },
  {
   "cell_type": "code",
   "execution_count": 23,
   "metadata": {},
   "outputs": [],
   "source": [
    "df =spark.read.csv(input_file_path,header=True)"
   ]
  },
  {
   "cell_type": "code",
   "execution_count": 24,
   "metadata": {},
   "outputs": [
    {
     "name": "stdout",
     "output_type": "stream",
     "text": [
      "+--------------+--------------------+----------------+--------------------+\n",
      "|      FOODNAME|      SCIENTIFICNAME|           GROUP|            SUBGROUP|\n",
      "+--------------+--------------------+----------------+--------------------+\n",
      "|      Angelica|    Angelica keiskei|Herbs and Spices|               Herbs|\n",
      "| Savoy cabbage|Brassica oleracea...|      Vegetables|            Cabbages|\n",
      "| Silver linden|      Tilia argentea|Herbs and Spices|               Herbs|\n",
      "|          Kiwi| Actinidia chinensis|          Fruits|     Tropical fruits|\n",
      "|Allium (Onion)|              Allium|      Vegetables|Onion-family vege...|\n",
      "|  Garden onion|         Allium cepa|      Vegetables|Onion-family vege...|\n",
      "|          Leek|       Allium porrum|      Vegetables|Onion-family vege...|\n",
      "|        Garlic|      Allium sativum|Herbs and Spices|               Herbs|\n",
      "|        Chives|Allium schoenoprasum|Herbs and Spices|               Herbs|\n",
      "| Lemon verbena|   Aloysia triphylla|Herbs and Spices|               Herbs|\n",
      "|    Cashew nut|Anacardium occide...|            Nuts|                Nuts|\n",
      "|     Pineapple|      Ananas comosus|          Fruits|     Tropical fruits|\n",
      "|          Dill|  Anethum graveolens|Herbs and Spices|               Herbs|\n",
      "| Custard apple|   Annona reticulata|          Fruits|     Tropical fruits|\n",
      "|   Wild celery|    Apium graveolens|Herbs and Spices|              Spices|\n",
      "|        Peanut|    Arachis hypogaea|            Nuts|                Nuts|\n",
      "|       Burdock|       Arctium lappa|      Vegetables|     Root vegetables|\n",
      "|   Horseradish| Armoracia rusticana|Herbs and Spices|              Spices|\n",
      "|      Tarragon|Artemisia dracunc...|Herbs and Spices|               Herbs|\n",
      "|       Mugwort|  Artemisia vulgaris|Herbs and Spices|               Herbs|\n",
      "+--------------+--------------------+----------------+--------------------+\n",
      "only showing top 20 rows\n",
      "\n"
     ]
    }
   ],
   "source": [
    "df.show()"
   ]
  },
  {
   "cell_type": "code",
   "execution_count": 16,
   "metadata": {},
   "outputs": [
    {
     "data": {
      "text/plain": [
       "908"
      ]
     },
     "execution_count": 16,
     "metadata": {},
     "output_type": "execute_result"
    }
   ],
   "source": [
    "df.count()"
   ]
  },
  {
   "cell_type": "code",
   "execution_count": 25,
   "metadata": {},
   "outputs": [
    {
     "name": "stdout",
     "output_type": "stream",
     "text": [
      "root\n",
      " |-- FOODNAME: string (nullable = true)\n",
      " |-- SCIENTIFICNAME: string (nullable = true)\n",
      " |-- GROUP: string (nullable = true)\n",
      " |-- SUBGROUP: string (nullable = true)\n",
      "\n"
     ]
    }
   ],
   "source": [
    "df.printSchema()"
   ]
  },
  {
   "cell_type": "code",
   "execution_count": 26,
   "metadata": {},
   "outputs": [
    {
     "data": {
      "text/plain": [
       "DataFrame[summary: string, FOODNAME: string, SCIENTIFICNAME: string, GROUP: string, SUBGROUP: string]"
      ]
     },
     "execution_count": 26,
     "metadata": {},
     "output_type": "execute_result"
    }
   ],
   "source": [
    "df.describe()"
   ]
  },
  {
   "cell_type": "code",
   "execution_count": 27,
   "metadata": {
    "scrolled": true
   },
   "outputs": [
    {
     "name": "stdout",
     "output_type": "stream",
     "text": [
      "+-------+--------+--------------------+------------+-------------------+\n",
      "|summary|FOODNAME|      SCIENTIFICNAME|       GROUP|           SUBGROUP|\n",
      "+-------+--------+--------------------+------------+-------------------+\n",
      "|  count|     907|                 900|         907|                907|\n",
      "|   mean|    null|                null|        null|               null|\n",
      "| stddev|    null|                null|        null|               null|\n",
      "|    min| Abalone|Abelmoschus escul...|Animal foods|Alcoholic beverages|\n",
      "|    max|Zwieback|  Zoarces americanus|  Vegetables|           Wrappers|\n",
      "+-------+--------+--------------------+------------+-------------------+\n",
      "\n"
     ]
    }
   ],
   "source": [
    "df.describe().show()"
   ]
  },
  {
   "cell_type": "code",
   "execution_count": 29,
   "metadata": {},
   "outputs": [],
   "source": [
    "input_file_path=\"file:///C:/Users/ckp43_000/Documents/movie_file/ratings.csv\"\n"
   ]
  },
  {
   "cell_type": "code",
   "execution_count": 31,
   "metadata": {},
   "outputs": [],
   "source": [
    "ratings_df=spark.read.csv(input_file_path)"
   ]
  },
  {
   "cell_type": "code",
   "execution_count": 35,
   "metadata": {
    "scrolled": true
   },
   "outputs": [
    {
     "name": "stdout",
     "output_type": "stream",
     "text": [
      "+---+---+---+---------+\n",
      "|_c0|_c1|_c2|      _c3|\n",
      "+---+---+---+---------+\n",
      "|  1|  1|4.0|964982703|\n",
      "|  1|  3|4.0|964981247|\n",
      "|  1|  6|4.0|964982224|\n",
      "|  1| 47|5.0|964983815|\n",
      "|  1| 50|5.0|964982931|\n",
      "|  1| 70|3.0|964982400|\n",
      "|  1|101|5.0|964980868|\n",
      "|  1|110|4.0|964982176|\n",
      "|  1|151|5.0|964984041|\n",
      "|  1|157|5.0|964984100|\n",
      "+---+---+---+---------+\n",
      "only showing top 10 rows\n",
      "\n"
     ]
    }
   ],
   "source": [
    "ratings_df.show(10)"
   ]
  },
  {
   "cell_type": "code",
   "execution_count": 37,
   "metadata": {
    "scrolled": true
   },
   "outputs": [
    {
     "name": "stdout",
     "output_type": "stream",
     "text": [
      "root\n",
      " |-- _c0: string (nullable = true)\n",
      " |-- _c1: string (nullable = true)\n",
      " |-- _c2: string (nullable = true)\n",
      " |-- _c3: string (nullable = true)\n",
      "\n"
     ]
    }
   ],
   "source": [
    "ratings_df.printSchema()"
   ]
  },
  {
   "cell_type": "code",
   "execution_count": null,
   "metadata": {},
   "outputs": [],
   "source": [
    "from pyspark.sql.types import FloatType"
   ]
  },
  {
   "cell_type": "code",
   "execution_count": 39,
   "metadata": {},
   "outputs": [],
   "source": [
    "from pyspark.sql.types import (StructField,StringType,\n",
    "                               IntegerType,StructType,FloatType)"
   ]
  },
  {
   "cell_type": "code",
   "execution_count": 40,
   "metadata": {},
   "outputs": [],
   "source": [
    "data_schema=[StructField('id',IntegerType(),True),\n",
    "            StructField('value',IntegerType(),True),\n",
    "            StructField('rating',FloatType(),True),\n",
    "            StructField('mob_no',StringType(),True)]"
   ]
  },
  {
   "cell_type": "code",
   "execution_count": 42,
   "metadata": {},
   "outputs": [],
   "source": [
    "final_struc=StructType(fields=data_schema)"
   ]
  },
  {
   "cell_type": "code",
   "execution_count": 44,
   "metadata": {},
   "outputs": [],
   "source": [
    "rating_df_with_schema=spark.read.csv(input_file_path,schema=final_struc)"
   ]
  },
  {
   "cell_type": "code",
   "execution_count": 45,
   "metadata": {},
   "outputs": [
    {
     "name": "stdout",
     "output_type": "stream",
     "text": [
      "+---+-----+------+---------+\n",
      "| id|value|rating|   mob_no|\n",
      "+---+-----+------+---------+\n",
      "|  1|    1|   4.0|964982703|\n",
      "|  1|    3|   4.0|964981247|\n",
      "|  1|    6|   4.0|964982224|\n",
      "|  1|   47|   5.0|964983815|\n",
      "|  1|   50|   5.0|964982931|\n",
      "+---+-----+------+---------+\n",
      "only showing top 5 rows\n",
      "\n"
     ]
    }
   ],
   "source": [
    "rating_df_with_schema.show(5)"
   ]
  },
  {
   "cell_type": "code",
   "execution_count": 47,
   "metadata": {},
   "outputs": [
    {
     "name": "stdout",
     "output_type": "stream",
     "text": [
      "root\n",
      " |-- id: integer (nullable = true)\n",
      " |-- value: integer (nullable = true)\n",
      " |-- rating: float (nullable = true)\n",
      " |-- mob_no: string (nullable = true)\n",
      "\n"
     ]
    }
   ],
   "source": [
    "rating_df_with_schema.printSchema()"
   ]
  },
  {
   "cell_type": "markdown",
   "metadata": {},
   "source": [
    "## Data Frame Part-2"
   ]
  },
  {
   "cell_type": "code",
   "execution_count": 48,
   "metadata": {},
   "outputs": [
    {
     "data": {
      "text/plain": [
       "DataFrame[mob_no: string]"
      ]
     },
     "execution_count": 48,
     "metadata": {},
     "output_type": "execute_result"
    }
   ],
   "source": [
    "rating_df_with_schema.select('mob_no')"
   ]
  },
  {
   "cell_type": "code",
   "execution_count": 51,
   "metadata": {},
   "outputs": [
    {
     "name": "stdout",
     "output_type": "stream",
     "text": [
      "+---------+\n",
      "|   mob_no|\n",
      "+---------+\n",
      "|964982703|\n",
      "|964981247|\n",
      "|964982224|\n",
      "|964983815|\n",
      "|964982931|\n",
      "|964982400|\n",
      "|964980868|\n",
      "|964982176|\n",
      "|964984041|\n",
      "|964984100|\n",
      "+---------+\n",
      "only showing top 10 rows\n",
      "\n"
     ]
    }
   ],
   "source": [
    "rating_df_with_schema.select('mob_no').show(10)"
   ]
  },
  {
   "cell_type": "code",
   "execution_count": 52,
   "metadata": {},
   "outputs": [
    {
     "data": {
      "text/plain": [
       "[Row(id=1, value=1, rating=4.0, mob_no='964982703'),\n",
       " Row(id=1, value=3, rating=4.0, mob_no='964981247')]"
      ]
     },
     "execution_count": 52,
     "metadata": {},
     "output_type": "execute_result"
    }
   ],
   "source": [
    "rating_df_with_schema.head(2)"
   ]
  },
  {
   "cell_type": "code",
   "execution_count": 53,
   "metadata": {},
   "outputs": [
    {
     "data": {
      "text/plain": [
       "list"
      ]
     },
     "execution_count": 53,
     "metadata": {},
     "output_type": "execute_result"
    }
   ],
   "source": [
    "type(rating_df_with_schema.head(2))"
   ]
  },
  {
   "cell_type": "code",
   "execution_count": 54,
   "metadata": {},
   "outputs": [
    {
     "data": {
      "text/plain": [
       "Row(id=1, value=1, rating=4.0, mob_no='964982703')"
      ]
     },
     "execution_count": 54,
     "metadata": {},
     "output_type": "execute_result"
    }
   ],
   "source": [
    "rating_df_with_schema.head(2)[0]"
   ]
  },
  {
   "cell_type": "code",
   "execution_count": 55,
   "metadata": {},
   "outputs": [
    {
     "data": {
      "text/plain": [
       "Row(id=1, value=3, rating=4.0, mob_no='964981247')"
      ]
     },
     "execution_count": 55,
     "metadata": {},
     "output_type": "execute_result"
    }
   ],
   "source": [
    "rating_df_with_schema.head(2)[1]"
   ]
  },
  {
   "cell_type": "code",
   "execution_count": 56,
   "metadata": {},
   "outputs": [
    {
     "data": {
      "text/plain": [
       "pyspark.sql.types.Row"
      ]
     },
     "execution_count": 56,
     "metadata": {},
     "output_type": "execute_result"
    }
   ],
   "source": [
    "type(rating_df_with_schema.head(2)[1])"
   ]
  },
  {
   "cell_type": "code",
   "execution_count": 57,
   "metadata": {},
   "outputs": [
    {
     "data": {
      "text/plain": [
       "DataFrame[id: int, mob_no: string, value: int]"
      ]
     },
     "execution_count": 57,
     "metadata": {},
     "output_type": "execute_result"
    }
   ],
   "source": [
    "rating_df_with_schema.select(['id','mob_no','value'])"
   ]
  },
  {
   "cell_type": "code",
   "execution_count": 58,
   "metadata": {
    "scrolled": true
   },
   "outputs": [
    {
     "name": "stdout",
     "output_type": "stream",
     "text": [
      "+---+---------+-----+\n",
      "| id|   mob_no|value|\n",
      "+---+---------+-----+\n",
      "|  1|964982703|    1|\n",
      "|  1|964981247|    3|\n",
      "|  1|964982224|    6|\n",
      "|  1|964983815|   47|\n",
      "|  1|964982931|   50|\n",
      "+---+---------+-----+\n",
      "only showing top 5 rows\n",
      "\n"
     ]
    }
   ],
   "source": [
    "rating_df_with_schema.select(['id','mob_no','value']).show(5)"
   ]
  },
  {
   "cell_type": "code",
   "execution_count": 66,
   "metadata": {},
   "outputs": [
    {
     "name": "stdout",
     "output_type": "stream",
     "text": [
      "+---+-----+------+---------+------+\n",
      "| id|value|rating|   mob_no|new_id|\n",
      "+---+-----+------+---------+------+\n",
      "|  1|    1|   4.0|964982703|     1|\n",
      "|  1|    3|   4.0|964981247|     1|\n",
      "|  1|    6|   4.0|964982224|     1|\n",
      "|  1|   47|   5.0|964983815|     1|\n",
      "|  1|   50|   5.0|964982931|     1|\n",
      "+---+-----+------+---------+------+\n",
      "only showing top 5 rows\n",
      "\n"
     ]
    }
   ],
   "source": [
    "rating_df_with_schema.withColumn('new_id',rating_df_with_schema['id']).show(5)  ###  adding new column in datra frame "
   ]
  },
  {
   "cell_type": "code",
   "execution_count": 59,
   "metadata": {},
   "outputs": [
    {
     "data": {
      "text/plain": [
       "DataFrame[id: int, value: int, rating: float, mob_no: string, new_id: int]"
      ]
     },
     "execution_count": 59,
     "metadata": {},
     "output_type": "execute_result"
    }
   ],
   "source": [
    "rating_df_with_schema.withColumn('new_id',rating_df_with_schema['id']*2)"
   ]
  },
  {
   "cell_type": "code",
   "execution_count": 63,
   "metadata": {},
   "outputs": [
    {
     "data": {
      "text/plain": [
       "[Row(id=1, value=1, rating=4.0, mob_no='964982703', new_id=2),\n",
       " Row(id=1, value=3, rating=4.0, mob_no='964981247', new_id=2),\n",
       " Row(id=1, value=6, rating=4.0, mob_no='964982224', new_id=2),\n",
       " Row(id=1, value=47, rating=5.0, mob_no='964983815', new_id=2),\n",
       " Row(id=1, value=50, rating=5.0, mob_no='964982931', new_id=2)]"
      ]
     },
     "execution_count": 63,
     "metadata": {},
     "output_type": "execute_result"
    }
   ],
   "source": [
    "rating_df_with_schema.withColumn('new_id',rating_df_with_schema['id']*2).head(5)"
   ]
  },
  {
   "cell_type": "code",
   "execution_count": 65,
   "metadata": {},
   "outputs": [
    {
     "name": "stdout",
     "output_type": "stream",
     "text": [
      "+---+-----+------+---------+------+\n",
      "| id|value|rating|   mob_no|new_id|\n",
      "+---+-----+------+---------+------+\n",
      "|  1|    1|   4.0|964982703|     2|\n",
      "|  1|    3|   4.0|964981247|     2|\n",
      "|  1|    6|   4.0|964982224|     2|\n",
      "|  1|   47|   5.0|964983815|     2|\n",
      "|  1|   50|   5.0|964982931|     2|\n",
      "+---+-----+------+---------+------+\n",
      "only showing top 5 rows\n",
      "\n"
     ]
    }
   ],
   "source": [
    "rating_df_with_schema.withColumn('new_id',rating_df_with_schema['id']*2).show(5)"
   ]
  },
  {
   "cell_type": "markdown",
   "metadata": {},
   "source": [
    "##  Renaming an existing column\n"
   ]
  },
  {
   "cell_type": "code",
   "execution_count": 70,
   "metadata": {},
   "outputs": [
    {
     "name": "stdout",
     "output_type": "stream",
     "text": [
      "+----------+-----+------+---------+\n",
      "|renamed_id|value|rating|   mob_no|\n",
      "+----------+-----+------+---------+\n",
      "|         1|    1|   4.0|964982703|\n",
      "|         1|    3|   4.0|964981247|\n",
      "|         1|    6|   4.0|964982224|\n",
      "|         1|   47|   5.0|964983815|\n",
      "|         1|   50|   5.0|964982931|\n",
      "+----------+-----+------+---------+\n",
      "only showing top 5 rows\n",
      "\n"
     ]
    }
   ],
   "source": [
    "rating_df_with_schema.withColumnRenamed('id','renamed_id').show(5)"
   ]
  },
  {
   "cell_type": "markdown",
   "metadata": {},
   "source": [
    "## register the data frame as a sql temporary view "
   ]
  },
  {
   "cell_type": "code",
   "execution_count": 71,
   "metadata": {},
   "outputs": [],
   "source": [
    "rating_df_with_schema.createOrReplaceTempView(\"rating_table\")"
   ]
  },
  {
   "cell_type": "code",
   "execution_count": 72,
   "metadata": {},
   "outputs": [],
   "source": [
    "results=spark.sql(\"select * from rating_table \")"
   ]
  },
  {
   "cell_type": "code",
   "execution_count": 73,
   "metadata": {},
   "outputs": [
    {
     "name": "stdout",
     "output_type": "stream",
     "text": [
      "+---+-----+------+---------+\n",
      "| id|value|rating|   mob_no|\n",
      "+---+-----+------+---------+\n",
      "|  1|    1|   4.0|964982703|\n",
      "|  1|    3|   4.0|964981247|\n",
      "|  1|    6|   4.0|964982224|\n",
      "|  1|   47|   5.0|964983815|\n",
      "|  1|   50|   5.0|964982931|\n",
      "+---+-----+------+---------+\n",
      "only showing top 5 rows\n",
      "\n"
     ]
    }
   ],
   "source": [
    "results.show(5)"
   ]
  },
  {
   "cell_type": "code",
   "execution_count": 74,
   "metadata": {},
   "outputs": [
    {
     "data": {
      "text/plain": [
       "pyspark.sql.dataframe.DataFrame"
      ]
     },
     "execution_count": 74,
     "metadata": {},
     "output_type": "execute_result"
    }
   ],
   "source": [
    "type(results)"
   ]
  },
  {
   "cell_type": "code",
   "execution_count": 75,
   "metadata": {},
   "outputs": [
    {
     "name": "stdout",
     "output_type": "stream",
     "text": [
      "+---+-----+------+---------+\n",
      "| id|value|rating|   mob_no|\n",
      "+---+-----+------+---------+\n",
      "|  1|    1|   4.0|964982703|\n",
      "|  1|    3|   4.0|964981247|\n",
      "|  1|    6|   4.0|964982224|\n",
      "|  1|   47|   5.0|964983815|\n",
      "|  1|   50|   5.0|964982931|\n",
      "+---+-----+------+---------+\n",
      "only showing top 5 rows\n",
      "\n"
     ]
    }
   ],
   "source": [
    "spark.sql(\"select * from rating_table\").show(5)"
   ]
  },
  {
   "cell_type": "code",
   "execution_count": null,
   "metadata": {},
   "outputs": [],
   "source": []
  }
 ],
 "metadata": {
  "kernelspec": {
   "display_name": "Python 3",
   "language": "python",
   "name": "python3"
  },
  "language_info": {
   "codemirror_mode": {
    "name": "ipython",
    "version": 3
   },
   "file_extension": ".py",
   "mimetype": "text/x-python",
   "name": "python",
   "nbconvert_exporter": "python",
   "pygments_lexer": "ipython3",
   "version": "3.7.4"
  }
 },
 "nbformat": 4,
 "nbformat_minor": 2
}
